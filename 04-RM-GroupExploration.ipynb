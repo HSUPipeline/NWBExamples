{
 "cells": [
  {
   "cell_type": "markdown",
   "id": "photographic-philosophy",
   "metadata": {},
   "source": [
    "# Recogmem: Group Analysis\n",
    "\n",
    "Exploring an openly avaialble NWB formatted dataset from the Rutishauser lab. \n",
    "\n",
    "Github: https://github.com/rutishauserlab/recogmem-release-NWB"
   ]
  },
  {
   "cell_type": "code",
   "execution_count": 1,
   "id": "express-genome",
   "metadata": {},
   "outputs": [],
   "source": [
    "import os\n",
    "from os.path import join as pjoin\n",
    "\n",
    "import matplotlib.pyplot as plt\n",
    "\n",
    "from pynwb import NWBFile, NWBHDF5IO"
   ]
  },
  {
   "cell_type": "markdown",
   "id": "municipal-chocolate",
   "metadata": {},
   "source": [
    "## Data Setup"
   ]
  },
  {
   "cell_type": "code",
   "execution_count": 2,
   "id": "copyrighted-defeat",
   "metadata": {},
   "outputs": [],
   "source": [
    "# Set the data path\n",
    "data_path = '/Users/tom/Desktop/HumanSingleNeurons/RutishauserSU/'\n",
    "\n",
    "# Get a list of available files\n",
    "files = os.listdir(data_path)"
   ]
  },
  {
   "cell_type": "markdown",
   "id": "fitting-departure",
   "metadata": {},
   "source": [
    "## Group Level Analysis"
   ]
  },
  {
   "cell_type": "code",
   "execution_count": 3,
   "id": "assigned-undergraduate",
   "metadata": {},
   "outputs": [],
   "source": [
    "# Set up some data stores\n",
    "n_wires = {}\n",
    "n_units = {}\n",
    "locations = {}"
   ]
  },
  {
   "cell_type": "code",
   "execution_count": 4,
   "id": "controlling-present",
   "metadata": {},
   "outputs": [],
   "source": [
    "# Loop through all files, and collect some information across the group\n",
    "for file in files:\n",
    "    with NWBHDF5IO(pjoin(data_path, file), 'r') as io:\n",
    "        nwbfile = io.read()\n",
    "\n",
    "        n_wires[nwbfile.identifier] = len(nwbfile.electrodes.id[:])\n",
    "        n_units[nwbfile.identifier] = len(nwbfile.units.origClusterID[:]) \n",
    "        locations[nwbfile.identifier] = set(nwbfile.electrodes.location[:])"
   ]
  },
  {
   "cell_type": "code",
   "execution_count": 5,
   "id": "honest-concept",
   "metadata": {},
   "outputs": [
    {
     "data": {
      "image/png": "[encoded data removed]",
      "text/plain": [
       "<Figure size 432x288 with 1 Axes>"
      ]
     },
     "metadata": {
      "needs_background": "light"
     },
     "output_type": "display_data"
    }
   ],
   "source": [
    "# Check the distribution of wires\n",
    "plt.hist(n_wires.values());"
   ]
  },
  {
   "cell_type": "code",
   "execution_count": 6,
   "id": "affected-appeal",
   "metadata": {},
   "outputs": [
    {
     "data": {
      "image/png": "[encoded data removed]",
      "text/plain": [
       "<Figure size 432x288 with 1 Axes>"
      ]
     },
     "metadata": {
      "needs_background": "light"
     },
     "output_type": "display_data"
    }
   ],
   "source": [
    "# Check the distribution of units\n",
    "plt.hist(n_units.values());"
   ]
  },
  {
   "cell_type": "code",
   "execution_count": 7,
   "id": "psychological-constitutional",
   "metadata": {},
   "outputs": [
    {
     "name": "stdout",
     "output_type": "stream",
     "text": [
      "IDENTIFIER   \t   N_WIRES   \t   N_UNITS\n",
      "H19_28  \t\t 7\t\t15\n",
      "H18_26  \t\t16\t\t33\n",
      "H10_7   \t\t18\t\t38\n",
      "H29_49  \t\t10\t\t27\n",
      "CS29_69 \t\t17\t\t64\n",
      "CS38_102\t\t17\t\t44\n",
      "CS49_118\t\t11\t\t13\n",
      "CS60_134\t\t 8\t\t14\n",
      "CS48_116\t\t14\t\t36\n",
      "H16_23  \t\t 9\t\t18\n",
      "CS26_64 \t\t 9\t\t33\n",
      "CS54_124\t\t17\t\t43\n",
      "CS54_125\t\t24\t\t46\n",
      "H14_17  \t\t 9\t\t23\n",
      "CS53_123\t\t 4\t\t 6\n",
      "H27_58  \t\t14\t\t49\n",
      "CS54_126\t\t15\t\t34\n",
      "CS53_122\t\t15\t\t27\n",
      "CS26_66 \t\t 6\t\t11\n",
      "CS32_74 \t\t 9\t\t35\n",
      "H42_55  \t\t13\t\t32\n",
      "H15_20  \t\t11\t\t20\n",
      "CS33_77 \t\t11\t\t30\n",
      "CS56_128\t\t 7\t\t 7\n",
      "CS42_111\t\t10\t\t14\n",
      "CS33_76 \t\t14\t\t53\n",
      "T98_2005\t\t11\t\t13\n",
      "H15_21  \t\t 7\t\t14\n",
      "H16_24  \t\t18\t\t21\n",
      "H42_54  \t\t13\t\t32\n",
      "H31_50  \t\t 7\t\t14\n",
      "CS57_130\t\t11\t\t16\n",
      "CS57_131\t\t 9\t\t11\n",
      "CS42_112\t\t 7\t\t12\n",
      "CS37_96 \t\t 8\t\t13\n",
      "H21_41  \t\t 6\t\t15\n",
      "CS27_67 \t\t 8\t\t15\n",
      "T100_2008\t\t 1\t\t 1\n",
      "CS33_78 \t\t 9\t\t13\n",
      "H23_47  \t\t 7\t\t17\n",
      "H47_97  \t\t 7\t\t10\n",
      "CS40_101\t\t10\t\t14\n",
      "CS44_114\t\t 9\t\t15\n",
      "H23_44  \t\t 8\t\t23\n",
      "CS43_113\t\t14\t\t21\n",
      "CS34_85 \t\t 4\t\t 6\n",
      "T107_2007\t\t 3\t\t 3\n",
      "CS24_60 \t\t 9\t\t22\n",
      "CS51_120\t\t 8\t\t15\n",
      "H17_32  \t\t16\t\t43\n",
      "H43_56  \t\t 6\t\t15\n",
      "T89_2004\t\t21\t\t31\n",
      "CS25_63 \t\t11\t\t14\n",
      "CS24_59 \t\t 7\t\t21\n",
      "T88_2002\t\t 4\t\t 4\n",
      "CS51_119\t\t10\t\t16\n",
      "T101_2011\t\t 8\t\t 8\n",
      "H14_18  \t\t10\t\t33\n",
      "H33_52  \t\t 8\t\t18\n",
      "CS47_115\t\t17\t\t35\n",
      "H23_43  \t\t 8\t\t23\n",
      "T103_2009\t\t 2\t\t 3\n",
      "H44_68  \t\t 7\t\t19\n",
      "CS55_127\t\t 6\t\t 8\n",
      "H47_92  \t\t 3\t\t 7\n",
      "T88_2001\t\t 7\t\t 9\n",
      "CS31_73 \t\t 2\t\t 4\n",
      "CS25_61 \t\t 6\t\t 8\n",
      "H11_9   \t\t 9\t\t25\n",
      "H21_38  \t\t 8\t\t20\n",
      "T90_2003\t\t 4\t\t 5\n",
      "H21_39  \t\t 8\t\t18\n",
      "CS49_117\t\t 7\t\t11\n",
      "CS61_135\t\t12\t\t13\n",
      "CS29_70 \t\t13\t\t33\n",
      "CS39_100\t\t16\t\t42\n",
      "H19_27  \t\t 6\t\t16\n",
      "H51_104 \t\t19\t\t42\n",
      "H51_105 \t\t19\t\t43\n",
      "H09_6   \t\t13\t\t19\n",
      "H28_48  \t\t19\t\t45\n",
      "CS58_132\t\t 8\t\t 8\n",
      "CS58_133\t\t 2\t\t 2\n",
      "H48_99  \t\t20\t\t30\n",
      "CS62_136\t\t 9\t\t13\n",
      "H09_5   \t\t14\t\t24\n",
      "CS39_93 \t\t13\t\t35\n"
     ]
    }
   ],
   "source": [
    "# Print out information per session\n",
    "print('IDENTIFIER   \\t   N_WIRES   \\t   N_UNITS')\n",
    "for identifier in n_wires.keys():\n",
    "    print('{:8}\\t\\t{:2}\\t\\t{:2}'.format(identifier, n_wires[identifier], n_units[identifier]))"
   ]
  },
  {
   "cell_type": "code",
   "execution_count": 8,
   "id": "continued-bookmark",
   "metadata": {},
   "outputs": [
    {
     "name": "stdout",
     "output_type": "stream",
     "text": [
      "IDENTIFIER   \t\tLOCATIONS\n",
      "H19_28  \t\tLeft Amygdala, Right Amygdala\n",
      "H18_26  \t\tRight Hippocampus, Left Amygdala, Right Amygdala, Left Hippocampus\n",
      "H10_7   \t\tRight Hippocampus, Left Amygdala, Right Amygdala\n",
      "H29_49  \t\tRight Hippocampus, Left Amygdala, Right Amygdala\n",
      "CS29_69 \t\tRight Hippocampus, Left Amygdala, Left Hippocampus\n",
      "CS38_102\t\tRight Hippocampus, Left Amygdala, Right Amygdala, Left Hippocampus\n",
      "CS49_118\t\tRight Hippocampus, Right Amygdala\n",
      "CS60_134\t\tRight Hippocampus, Right Amygdala\n",
      "CS48_116\t\tRight Hippocampus, Left Amygdala, Right Amygdala\n",
      "H16_23  \t\tRight Amygdala, Left Hippocampus\n",
      "CS26_64 \t\tLeft Amygdala, Left Hippocampus\n",
      "CS54_124\t\tRight Hippocampus, Left Amygdala, Right Amygdala, Left Hippocampus\n",
      "CS54_125\t\tRight Hippocampus, Left Amygdala, Right Amygdala, Left Hippocampus\n",
      "H14_17  \t\tRight Amygdala, Left Hippocampus\n",
      "CS53_123\t\tRight Hippocampus, Left Amygdala\n",
      "H27_58  \t\tRight Hippocampus, Left Hippocampus\n",
      "CS54_126\t\tRight Hippocampus, Left Amygdala, Right Amygdala, Left Hippocampus\n",
      "CS53_122\t\tRight Hippocampus, Left Amygdala, Left Hippocampus\n",
      "CS26_66 \t\tLeft Amygdala\n",
      "CS32_74 \t\tLeft Amygdala, Right Amygdala\n",
      "H42_55  \t\tRight Hippocampus, Left Amygdala, Right Amygdala, Left Hippocampus\n",
      "H15_20  \t\tRight Hippocampus, Right Amygdala, Left Hippocampus\n",
      "CS33_77 \t\tRight Hippocampus, Left Amygdala, Right Amygdala\n",
      "CS56_128\t\tLeft Amygdala, Right Amygdala, Left Hippocampus\n",
      "CS42_111\t\tRight Hippocampus, Right Amygdala\n",
      "CS33_76 \t\tRight Hippocampus, Left Amygdala, Right Amygdala\n",
      "T98_2005\t\tRight Hippocampus, Left Amygdala, Right Amygdala\n",
      "H15_21  \t\tRight Hippocampus, Right Amygdala\n",
      "H16_24  \t\tRight Hippocampus, Left Amygdala, Right Amygdala, Left Hippocampus\n",
      "H42_54  \t\tRight Hippocampus, Left Amygdala, Right Amygdala, Left Hippocampus\n",
      "H31_50  \t\tRight Hippocampus, Left Hippocampus\n",
      "CS57_130\t\tLeft Amygdala, Right Amygdala, Left Hippocampus\n",
      "CS57_131\t\tLeft Amygdala, Right Amygdala, Left Hippocampus\n",
      "CS42_112\t\tRight Hippocampus, Right Amygdala\n",
      "CS37_96 \t\tLeft Amygdala, Right Amygdala\n",
      "H21_41  \t\tLeft Hippocampus\n",
      "CS27_67 \t\tLeft Amygdala\n",
      "T100_2008\t\tRight Hippocampus\n",
      "CS33_78 \t\tRight Hippocampus, Right Amygdala\n",
      "H23_47  \t\tRight Hippocampus, Right Amygdala\n",
      "H47_97  \t\tRight Hippocampus, Right Amygdala, Left Hippocampus\n",
      "CS40_101\t\tRight Hippocampus, Left Amygdala, Left Hippocampus\n",
      "CS44_114\t\tRight Hippocampus, Left Amygdala, Right Amygdala, Left Hippocampus\n",
      "H23_44  \t\tRight Amygdala, Left Hippocampus\n",
      "CS43_113\t\tRight Hippocampus, Left Amygdala, Right Amygdala, Left Hippocampus\n",
      "CS34_85 \t\tLeft Amygdala\n",
      "T107_2007\t\tLeft Amygdala\n",
      "CS24_60 \t\tLeft Amygdala, Right Amygdala, Left Hippocampus\n",
      "CS51_120\t\tRight Hippocampus, Left Amygdala, Right Amygdala, Left Hippocampus\n",
      "H17_32  \t\tRight Hippocampus, Left Amygdala, Right Amygdala\n",
      "H43_56  \t\tLeft Amygdala\n",
      "T89_2004\t\tRight Hippocampus, Left Hippocampus\n",
      "CS25_63 \t\tLeft Amygdala, Left Hippocampus\n",
      "CS24_59 \t\tLeft Amygdala, Left Hippocampus\n",
      "T88_2002\t\tRight Hippocampus, Left Hippocampus\n",
      "CS51_119\t\tRight Hippocampus, Left Amygdala, Right Amygdala, Left Hippocampus\n",
      "T101_2011\t\tRight Amygdala, Left Hippocampus\n",
      "H14_18  \t\tRight Amygdala, Left Hippocampus\n",
      "H33_52  \t\tRight Amygdala, Left Hippocampus\n",
      "CS47_115\t\tLeft Amygdala, Right Amygdala, Left Hippocampus\n",
      "H23_43  \t\tRight Amygdala, Left Hippocampus\n",
      "T103_2009\t\tRight Hippocampus\n",
      "H44_68  \t\tRight Hippocampus, Left Amygdala\n",
      "CS55_127\t\tLeft Amygdala, Left Hippocampus\n",
      "H47_92  \t\tRight Hippocampus, Right Amygdala\n",
      "T88_2001\t\tRight Hippocampus\n",
      "CS31_73 \t\tRight Hippocampus, Left Hippocampus\n",
      "CS25_61 \t\tLeft Amygdala\n",
      "H11_9   \t\tRight Amygdala, Left Hippocampus\n",
      "H21_38  \t\tRight Hippocampus, Left Hippocampus\n",
      "T90_2003\t\tLeft Amygdala, Right Amygdala\n",
      "H21_39  \t\tRight Hippocampus, Left Hippocampus\n",
      "CS49_117\t\tRight Hippocampus, Right Amygdala\n",
      "CS61_135\t\tRight Hippocampus, Left Amygdala, Right Amygdala\n",
      "CS29_70 \t\tRight Hippocampus, Left Amygdala, Left Hippocampus\n",
      "CS39_100\t\tRight Hippocampus, Left Amygdala, Right Amygdala, Left Hippocampus\n",
      "H19_27  \t\tLeft Amygdala, Right Amygdala\n",
      "H51_104 \t\tRight Hippocampus, Left Amygdala, Right Amygdala, Left Hippocampus\n",
      "H51_105 \t\tRight Hippocampus, Left Amygdala, Right Amygdala, Left Hippocampus\n",
      "H09_6   \t\tLeft Amygdala, Right Amygdala, Left Hippocampus\n",
      "H28_48  \t\tRight Hippocampus, Left Amygdala, Right Amygdala\n",
      "CS58_132\t\tLeft Amygdala, Right Amygdala\n",
      "CS58_133\t\tLeft Amygdala\n",
      "H48_99  \t\tLeft Amygdala, Right Amygdala, Left Hippocampus\n",
      "CS62_136\t\tRight Hippocampus, Right Amygdala\n",
      "H09_5   \t\tRight Amygdala, Left Hippocampus\n",
      "CS39_93 \t\tRight Hippocampus, Right Amygdala, Left Hippocampus\n"
     ]
    }
   ],
   "source": [
    "# Print out information per session\n",
    "print('IDENTIFIER   \\t\\tLOCATIONS')\n",
    "for identifier in n_wires.keys():\n",
    "    print('{:8}\\t\\t{}'.format(identifier, ', '.join(locations[identifier])))"
   ]
  }
 ],
 "metadata": {
  "kernelspec": {
   "display_name": "Python 3",
   "language": "python",
   "name": "python3"
  },
  "language_info": {
   "codemirror_mode": {
    "name": "ipython",
    "version": 3
   },
   "file_extension": ".py",
   "mimetype": "text/x-python",
   "name": "python",
   "nbconvert_exporter": "python",
   "pygments_lexer": "ipython3",
   "version": "3.8.8"
  }
 },
 "nbformat": 4,
 "nbformat_minor": 5
}
