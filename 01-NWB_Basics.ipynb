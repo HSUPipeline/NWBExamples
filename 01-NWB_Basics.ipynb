{
 "cells": [
  {
   "cell_type": "markdown",
   "id": "authorized-drain",
   "metadata": {},
   "source": [
    "# NWB File Explores\n",
    "\n",
    "Adapted from: https://pynwb.readthedocs.io/en/stable/tutorials/general/file.html"
   ]
  },
  {
   "cell_type": "code",
   "execution_count": 1,
   "id": "antique-habitat",
   "metadata": {},
   "outputs": [],
   "source": [
    "import os\n",
    "from datetime import datetime\n",
    "from dateutil.tz import tzlocal\n",
    "\n",
    "import numpy as np\n",
    "\n",
    "from pynwb import NWBFile, NWBHDF5IO, TimeSeries"
   ]
  },
  {
   "cell_type": "code",
   "execution_count": 2,
   "id": "anonymous-volunteer",
   "metadata": {},
   "outputs": [],
   "source": [
    "# Get local timezone\n",
    "timezone = tzlocal() \n",
    "\n",
    "# Set time zone information\n",
    "start_time = datetime(2021, 3, 20, tzinfo=tzlocal())\n",
    "create_date = datetime(2021, 3, 20, tzinfo=tzlocal())"
   ]
  },
  {
   "cell_type": "code",
   "execution_count": 3,
   "id": "medical-tourism",
   "metadata": {},
   "outputs": [],
   "source": [
    "# Initialize an NWB file\n",
    "nwbfile = NWBFile(session_description='NWBFile test',\n",
    "                  identifier='NWB123',\n",
    "                  session_start_time=start_time,\n",
    "                  file_create_date=create_date)"
   ]
  },
  {
   "cell_type": "code",
   "execution_count": 4,
   "id": "arctic-collapse",
   "metadata": {},
   "outputs": [],
   "source": [
    "# Dummy test data\n",
    "data = np.arange(100, 200, 10)\n",
    "timestamps = np.arange(10.)\n",
    "\n",
    "#data = list(range(100, 200, 10))\n",
    "#timestamps = list(range(10))"
   ]
  },
  {
   "cell_type": "code",
   "execution_count": 5,
   "id": "native-bonus",
   "metadata": {},
   "outputs": [],
   "source": [
    "# Create dummy time series object\n",
    "test_ts = TimeSeries(name='test_timeseries', data=data, unit='m', timestamps=timestamps)"
   ]
  },
  {
   "cell_type": "code",
   "execution_count": 6,
   "id": "federal-encounter",
   "metadata": {},
   "outputs": [],
   "source": [
    "# Add the dummy time series as an acquisition element\n",
    "nwbfile.add_acquisition(test_ts)"
   ]
  },
  {
   "cell_type": "code",
   "execution_count": 7,
   "id": "worth-alexandria",
   "metadata": {},
   "outputs": [
    {
     "data": {
      "text/plain": [
       "test_timeseries pynwb.base.TimeSeries at 0x140704403092096\n",
       "Fields:\n",
       "  comments: no comments\n",
       "  conversion: 1.0\n",
       "  data: [100 110 120 130 140 150 160 170 180 190]\n",
       "  description: no description\n",
       "  interval: 1\n",
       "  resolution: -1.0\n",
       "  timestamps: [0. 1. 2. 3. 4. 5. 6. 7. 8. 9.]\n",
       "  timestamps_unit: seconds\n",
       "  unit: m"
      ]
     },
     "execution_count": 7,
     "metadata": {},
     "output_type": "execute_result"
    }
   ],
   "source": [
    "# Check the acquisition element\n",
    "nwbfile.acquisition['test_timeseries']"
   ]
  },
  {
   "cell_type": "code",
   "execution_count": 8,
   "id": "competitive-dispatch",
   "metadata": {},
   "outputs": [],
   "source": [
    "# Get the newly added acquisition\n",
    "test_acq = nwbfile.get_acquisition('test_timeseries')"
   ]
  },
  {
   "cell_type": "markdown",
   "id": "flush-guatemala",
   "metadata": {},
   "source": [
    "### File I/O"
   ]
  },
  {
   "cell_type": "markdown",
   "id": "modern-comedy",
   "metadata": {},
   "source": [
    "#### Save out NWB File"
   ]
  },
  {
   "cell_type": "code",
   "execution_count": 9,
   "id": "wrong-sunglasses",
   "metadata": {},
   "outputs": [],
   "source": [
    "# Save out an example NWB file\n",
    "with NWBHDF5IO('example_file_path.nwb', 'w') as io:\n",
    "    io.write(nwbfile)"
   ]
  },
  {
   "cell_type": "code",
   "execution_count": 10,
   "id": "clear-burning",
   "metadata": {},
   "outputs": [
    {
     "name": "stdout",
     "output_type": "stream",
     "text": [
      "['example_file_path.nwb']\n"
     ]
    }
   ],
   "source": [
    "# Check for saved out NWB files\n",
    "nwb_files = [file for file in os.listdir('.') if file.split('.')[-1] == 'nwb']\n",
    "print(nwb_files)"
   ]
  },
  {
   "cell_type": "code",
   "execution_count": 11,
   "id": "formal-zambia",
   "metadata": {},
   "outputs": [
    {
     "name": "stdout",
     "output_type": "stream",
     "text": [
      "Validating example_file_path.nwb against cached namespace information using namespace core.\n",
      " - no errors found.\n"
     ]
    }
   ],
   "source": [
    "# Run command line tool to validate NWB file\n",
    "!python -m pynwb.validate example_file_path.nwb"
   ]
  },
  {
   "cell_type": "markdown",
   "id": "therapeutic-bangkok",
   "metadata": {},
   "source": [
    "#### Read in NWB File"
   ]
  },
  {
   "cell_type": "code",
   "execution_count": 12,
   "id": "strong-opening",
   "metadata": {},
   "outputs": [],
   "source": [
    "# Read in an example NWB file\n",
    "io = NWBHDF5IO('example_file_path.nwb', 'r')\n",
    "nwbfile_in = io.read()"
   ]
  },
  {
   "cell_type": "code",
   "execution_count": 13,
   "id": "brief-flight",
   "metadata": {},
   "outputs": [
    {
     "data": {
      "text/plain": [
       "root pynwb.file.NWBFile at 0x140704444218144\n",
       "Fields:\n",
       "  acquisition: {\n",
       "    test_timeseries <class 'pynwb.base.TimeSeries'>\n",
       "  }\n",
       "  file_create_date: [datetime.datetime(2021, 3, 20, 0, 0, tzinfo=tzoffset(None, -14400))]\n",
       "  identifier: NWB123\n",
       "  session_description: NWBFile test\n",
       "  session_start_time: 2021-03-20 00:00:00-04:00\n",
       "  timestamps_reference_time: 2021-03-20 00:00:00-04:00"
      ]
     },
     "execution_count": 13,
     "metadata": {},
     "output_type": "execute_result"
    }
   ],
   "source": [
    "nwbfile_in"
   ]
  },
  {
   "cell_type": "code",
   "execution_count": 14,
   "id": "whole-repeat",
   "metadata": {},
   "outputs": [],
   "source": [
    "test_ts_in = nwbfile_in.acquisition['test_timeseries']"
   ]
  },
  {
   "cell_type": "code",
   "execution_count": 15,
   "id": "standard-document",
   "metadata": {},
   "outputs": [
    {
     "name": "stdout",
     "output_type": "stream",
     "text": [
      "test_timeseries pynwb.base.TimeSeries at 0x140704444218000\n",
      "Fields:\n",
      "  comments: no comments\n",
      "  conversion: 1.0\n",
      "  data: <HDF5 dataset \"data\": shape (10,), type \"<i8\">\n",
      "  description: no description\n",
      "  interval: 1\n",
      "  resolution: -1.0\n",
      "  timestamps: <HDF5 dataset \"timestamps\": shape (10,), type \"<f8\">\n",
      "  timestamps_unit: seconds\n",
      "  unit: m\n",
      "\n"
     ]
    }
   ],
   "source": [
    "print(test_ts_in)"
   ]
  },
  {
   "cell_type": "code",
   "execution_count": 16,
   "id": "dedicated-maldives",
   "metadata": {},
   "outputs": [],
   "source": [
    "# Close the file reader\n",
    "io.close()"
   ]
  }
 ],
 "metadata": {
  "kernelspec": {
   "display_name": "Python 3",
   "language": "python",
   "name": "python3"
  },
  "language_info": {
   "codemirror_mode": {
    "name": "ipython",
    "version": 3
   },
   "file_extension": ".py",
   "mimetype": "text/x-python",
   "name": "python",
   "nbconvert_exporter": "python",
   "pygments_lexer": "ipython3",
   "version": "3.8.8"
  }
 },
 "nbformat": 4,
 "nbformat_minor": 5
}
