{
 "cells": [
  {
   "cell_type": "markdown",
   "id": "willing-joint",
   "metadata": {},
   "source": [
    "# Local Data Explorations"
   ]
  },
  {
   "cell_type": "code",
   "execution_count": 1,
   "id": "undefined-syndication",
   "metadata": {},
   "outputs": [],
   "source": [
    "import os\n",
    "from os.path import join as pjoin\n",
    "\n",
    "import joblib\n",
    "import numpy as np\n",
    "import pandas as pd\n",
    "import matplotlib.pyplot as plt\n",
    "\n",
    "import h5py"
   ]
  },
  {
   "cell_type": "markdown",
   "id": "olympic-theater",
   "metadata": {},
   "source": [
    "## Settings"
   ]
  },
  {
   "cell_type": "code",
   "execution_count": 2,
   "id": "growing-planning",
   "metadata": {},
   "outputs": [],
   "source": [
    "folder = 'data/'"
   ]
  },
  {
   "cell_type": "markdown",
   "id": "phantom-builder",
   "metadata": {},
   "source": [
    "### Read Behaviour"
   ]
  },
  {
   "cell_type": "code",
   "execution_count": 3,
   "id": "driving-wesley",
   "metadata": {},
   "outputs": [],
   "source": [
    "df = pd.read_csv(pjoin(folder, 'behavior', 'events.csv'))"
   ]
  },
  {
   "cell_type": "code",
   "execution_count": 4,
   "id": "center-award",
   "metadata": {},
   "outputs": [
    {
     "data": {
      "text/html": [
       "<div>\n",
       "<style scoped>\n",
       "    .dataframe tbody tr th:only-of-type {\n",
       "        vertical-align: middle;\n",
       "    }\n",
       "\n",
       "    .dataframe tbody tr th {\n",
       "        vertical-align: top;\n",
       "    }\n",
       "\n",
       "    .dataframe thead th {\n",
       "        text-align: right;\n",
       "    }\n",
       "</style>\n",
       "<table border=\"1\" class=\"dataframe\">\n",
       "  <thead>\n",
       "    <tr style=\"text-align: right;\">\n",
       "      <th></th>\n",
       "      <th>Unnamed: 0</th>\n",
       "      <th>unixtime</th>\n",
       "      <th>x</th>\n",
       "      <th>y</th>\n",
       "      <th>z</th>\n",
       "      <th>encoding</th>\n",
       "      <th>retrieval</th>\n",
       "      <th>task_screening</th>\n",
       "      <th>choice_point</th>\n",
       "      <th>left_loop</th>\n",
       "      <th>...</th>\n",
       "      <th>button_press</th>\n",
       "      <th>button_x</th>\n",
       "      <th>button_z</th>\n",
       "      <th>chest_coords</th>\n",
       "      <th>trial</th>\n",
       "      <th>planned_turn</th>\n",
       "      <th>spikeoffset</th>\n",
       "      <th>bin_width</th>\n",
       "      <th>speed</th>\n",
       "      <th>linear_position</th>\n",
       "    </tr>\n",
       "  </thead>\n",
       "  <tbody>\n",
       "    <tr>\n",
       "      <th>0</th>\n",
       "      <td>0</td>\n",
       "      <td>1.607535e+12</td>\n",
       "      <td>142.9000</td>\n",
       "      <td>NaN</td>\n",
       "      <td>8.900000</td>\n",
       "      <td>False</td>\n",
       "      <td>False</td>\n",
       "      <td>False</td>\n",
       "      <td>False</td>\n",
       "      <td>False</td>\n",
       "      <td>...</td>\n",
       "      <td>False</td>\n",
       "      <td>NaN</td>\n",
       "      <td>NaN</td>\n",
       "      <td>[(63.90156, -38.97487), (103.6756, 53.94187)]</td>\n",
       "      <td>0.0</td>\n",
       "      <td>LEFT</td>\n",
       "      <td>1.660369e+06</td>\n",
       "      <td>10226.0</td>\n",
       "      <td>0.000020</td>\n",
       "      <td>0.0000</td>\n",
       "    </tr>\n",
       "    <tr>\n",
       "      <th>1</th>\n",
       "      <td>1</td>\n",
       "      <td>1.607535e+12</td>\n",
       "      <td>142.8993</td>\n",
       "      <td>NaN</td>\n",
       "      <td>8.900005</td>\n",
       "      <td>False</td>\n",
       "      <td>False</td>\n",
       "      <td>False</td>\n",
       "      <td>False</td>\n",
       "      <td>False</td>\n",
       "      <td>...</td>\n",
       "      <td>False</td>\n",
       "      <td>NaN</td>\n",
       "      <td>NaN</td>\n",
       "      <td>[(63.90156, -38.97487), (103.6756, 53.94187)]</td>\n",
       "      <td>0.0</td>\n",
       "      <td>LEFT</td>\n",
       "      <td>1.670595e+06</td>\n",
       "      <td>16.0</td>\n",
       "      <td>0.012655</td>\n",
       "      <td>0.0007</td>\n",
       "    </tr>\n",
       "  </tbody>\n",
       "</table>\n",
       "<p>2 rows × 25 columns</p>\n",
       "</div>"
      ],
      "text/plain": [
       "   Unnamed: 0      unixtime         x   y         z  encoding  retrieval  \\\n",
       "0           0  1.607535e+12  142.9000 NaN  8.900000     False      False   \n",
       "1           1  1.607535e+12  142.8993 NaN  8.900005     False      False   \n",
       "\n",
       "   task_screening  choice_point  left_loop  ...  button_press  button_x  \\\n",
       "0           False         False      False  ...         False       NaN   \n",
       "1           False         False      False  ...         False       NaN   \n",
       "\n",
       "   button_z                                   chest_coords  trial  \\\n",
       "0       NaN  [(63.90156, -38.97487), (103.6756, 53.94187)]    0.0   \n",
       "1       NaN  [(63.90156, -38.97487), (103.6756, 53.94187)]    0.0   \n",
       "\n",
       "   planned_turn   spikeoffset  bin_width     speed  linear_position  \n",
       "0          LEFT  1.660369e+06    10226.0  0.000020           0.0000  \n",
       "1          LEFT  1.670595e+06       16.0  0.012655           0.0007  \n",
       "\n",
       "[2 rows x 25 columns]"
      ]
     },
     "execution_count": 4,
     "metadata": {},
     "output_type": "execute_result"
    }
   ],
   "source": [
    "df.head(2)"
   ]
  },
  {
   "cell_type": "markdown",
   "id": "usual-salvation",
   "metadata": {},
   "source": [
    "### Read Spiketimes\n",
    "\n",
    "Spiking data is stored in HDF5 files. "
   ]
  },
  {
   "cell_type": "code",
   "execution_count": 5,
   "id": "satisfied-american",
   "metadata": {},
   "outputs": [],
   "source": [
    "# Get a list of the available spike files\n",
    "spike_files = os.listdir(pjoin(folder, 'spiketimes'))"
   ]
  },
  {
   "cell_type": "code",
   "execution_count": 6,
   "id": "controlling-elephant",
   "metadata": {},
   "outputs": [],
   "source": [
    "# Load example spike file\n",
    "h5file = h5py.File(pjoin(folder, 'spiketimes', spike_files[0]), 'r')\n",
    "\n",
    "# Extract sorted spike time data\n",
    "spike_times = h5file['spike_data_sorted']"
   ]
  },
  {
   "cell_type": "code",
   "execution_count": 7,
   "id": "photographic-ferry",
   "metadata": {},
   "outputs": [
    {
     "name": "stdout",
     "output_type": "stream",
     "text": [
      "<KeysViewHDF5 ['spikeClasses', 'spikeClusters', 'spikeTimes', 'spikeWaveforms']>\n"
     ]
    }
   ],
   "source": [
    "# Check the available data keys\n",
    "print(spike_times.keys())"
   ]
  },
  {
   "cell_type": "code",
   "execution_count": 8,
   "id": "hearing-signal",
   "metadata": {},
   "outputs": [],
   "source": [
    "# Get all the available data\n",
    "classes = spike_times['spikeClasses']\n",
    "clusters = spike_times['spikeClusters']\n",
    "times = spike_times['spikeTimes']\n",
    "waveforms = spike_times['spikeWaveforms']"
   ]
  },
  {
   "cell_type": "code",
   "execution_count": 9,
   "id": "lyric-anthropology",
   "metadata": {},
   "outputs": [
    {
     "name": "stdout",
     "output_type": "stream",
     "text": [
      "<HDF5 dataset \"spikeClasses\": shape (4807,), type \"<f8\">\n",
      "<HDF5 dataset \"spikeClusters\": shape (4807,), type \"<f8\">\n",
      "<HDF5 dataset \"spikeTimes\": shape (4807,), type \"<f8\">\n",
      "<HDF5 dataset \"spikeWaveforms\": shape (4807, 64), type \"<f4\">\n"
     ]
    }
   ],
   "source": [
    "# Check \n",
    "print(classes)\n",
    "print(clusters)\n",
    "print(times)\n",
    "print(waveforms)"
   ]
  },
  {
   "cell_type": "markdown",
   "id": "wooden-choir",
   "metadata": {},
   "source": [
    "#### Best guess data descriptions\n",
    "\n",
    "Each of the extracted elements has the same length, corresponding to an identified spike.\n",
    "\n",
    "Data arrays:\n",
    "- classes: ?\n",
    "- clusters: \n",
    "- times: times of identified spikes\n",
    "- waveforms: the individual waveform of the identified spike\n",
    "\n",
    "Notes on datatype:\n",
    "- the `<` indicates 'little endian'\n",
    "- the number (`4` or `8`) indicates float precision (32 or 64 bit)"
   ]
  },
  {
   "cell_type": "code",
   "execution_count": 10,
   "id": "incomplete-vacuum",
   "metadata": {},
   "outputs": [
    {
     "data": {
      "text/plain": [
       "[<matplotlib.lines.Line2D at 0x7f991edd6c40>]"
      ]
     },
     "execution_count": 10,
     "metadata": {},
     "output_type": "execute_result"
    },
    {
     "data": {
      "image/png": "[encoded data removed]",
      "text/plain": [
       "<Figure size 432x288 with 1 Axes>"
      ]
     },
     "metadata": {
      "needs_background": "light"
     },
     "output_type": "display_data"
    }
   ],
   "source": [
    "plt.plot(times, classes)"
   ]
  },
  {
   "cell_type": "code",
   "execution_count": 11,
   "id": "technical-julian",
   "metadata": {},
   "outputs": [
    {
     "data": {
      "text/plain": [
       "[<matplotlib.lines.Line2D at 0x7f9922fb5550>]"
      ]
     },
     "execution_count": 11,
     "metadata": {},
     "output_type": "execute_result"
    },
    {
     "data": {
      "image/png": "[encoded data removed]",
      "text/plain": [
       "<Figure size 432x288 with 1 Axes>"
      ]
     },
     "metadata": {
      "needs_background": "light"
     },
     "output_type": "display_data"
    }
   ],
   "source": [
    "plt.plot(times, clusters)"
   ]
  },
  {
   "cell_type": "code",
   "execution_count": 12,
   "id": "coral-particular",
   "metadata": {},
   "outputs": [
    {
     "data": {
      "text/plain": [
       "[<matplotlib.lines.Line2D at 0x7f9923aa7e50>]"
      ]
     },
     "execution_count": 12,
     "metadata": {},
     "output_type": "execute_result"
    },
    {
     "data": {
      "image/png": "[encoded data removed]",
      "text/plain": [
       "<Figure size 432x288 with 1 Axes>"
      ]
     },
     "metadata": {
      "needs_background": "light"
     },
     "output_type": "display_data"
    }
   ],
   "source": [
    "# Calculate and plot the average waveform\n",
    "avg = np.mean(waveforms, 0)\n",
    "plt.plot(avg)"
   ]
  },
  {
   "cell_type": "markdown",
   "id": "painful-flush",
   "metadata": {},
   "source": [
    "### LFP Files\n",
    "\n",
    "Note: the pickle files need to be loaded with `joblib`."
   ]
  },
  {
   "cell_type": "code",
   "execution_count": 13,
   "id": "fifteen-ethics",
   "metadata": {},
   "outputs": [],
   "source": [
    "# Get a list of the available LFP files\n",
    "lfp_files = os.listdir(pjoin(folder, 'micro_lfp'))"
   ]
  },
  {
   "cell_type": "code",
   "execution_count": 14,
   "id": "blessed-shanghai",
   "metadata": {},
   "outputs": [],
   "source": [
    "cur_file = pjoin(folder, 'micro_lfp', lfp_files[0])"
   ]
  },
  {
   "cell_type": "code",
   "execution_count": 15,
   "id": "signed-point",
   "metadata": {},
   "outputs": [],
   "source": [
    "with open(cur_file, 'rb') as pfile:\n",
    "    temp = joblib.load(pfile)"
   ]
  },
  {
   "cell_type": "code",
   "execution_count": 16,
   "id": "satisfactory-allen",
   "metadata": {},
   "outputs": [
    {
     "data": {
      "text/plain": [
       "[<matplotlib.lines.Line2D at 0x7f9923b12490>]"
      ]
     },
     "execution_count": 16,
     "metadata": {},
     "output_type": "execute_result"
    },
    {
     "data": {
      "image/png": "[encoded data removed]",
      "text/plain": [
       "<Figure size 432x288 with 1 Axes>"
      ]
     },
     "metadata": {
      "needs_background": "light"
     },
     "output_type": "display_data"
    }
   ],
   "source": [
    "plt.plot(temp)"
   ]
  }
 ],
 "metadata": {
  "kernelspec": {
   "display_name": "Python 3",
   "language": "python",
   "name": "python3"
  },
  "language_info": {
   "codemirror_mode": {
    "name": "ipython",
    "version": 3
   },
   "file_extension": ".py",
   "mimetype": "text/x-python",
   "name": "python",
   "nbconvert_exporter": "python",
   "pygments_lexer": "ipython3",
   "version": "3.8.8"
  }
 },
 "nbformat": 4,
 "nbformat_minor": 5
}
