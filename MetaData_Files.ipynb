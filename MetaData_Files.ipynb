{
 "cells": [
  {
   "cell_type": "markdown",
   "id": "cooperative-therapist",
   "metadata": {},
   "source": [
    "# Meta Data Files\n",
    "\n",
    "We have a bunch of 'metadata' we need to store. Some of it is shared across different \n",
    "\n",
    "I think one plausible option is to adopt a readable file format, most likely borrowing from a common config file. \n",
    "\n",
    "Then, a new session can\n",
    "(for example: the study file, the task file, the site file, etc). \n",
    "\n",
    "The desired file type is therefore something:\n",
    "- machine readable (to be automatically loaded and applied during file conversion)\n",
    "- human read and write-able, so that people organizing the data can edit as needed\n",
    "    - if they are easy to interact with for manual elements, this hopefully minimizes errors\n",
    "\n",
    "Potential 'config' file types:\n",
    "- txt\n",
    "    - Pro: simple, universal; CON: no particular structure, so parsing is annoying\n",
    "- ini / cfg\n",
    "    - Pro: simple, natively supported in Python, CON: I don't think it supports longer strings well\n",
    "- json\n",
    "    - Pro: simple, natively supported in Python; CON: a little more annoying to read / write (I think), no comments\n",
    "- yaml\n",
    "    - Pro: well supported, clean to write & supports longer strings, has comments; CON: not native in Python, more complex\n",
    "    \n",
    "I think there's not too much between YAML & JSON for our purposes. YAML is potentially a bit better for 'human maintained' files, which might make it slightly preferred. \n",
    "    \n",
    "Notes: \n",
    "- A possible alternative is to write in the metadata into the Python code and scripts that do the file conversion. This is effectively done by the Rutishauser dataset (see [this file](https://github.com/rutishauserlab/recogmem-release-NWB/blob/master/RutishauserLabtoNWB/events/newolddelay/python/export/no2nwb.py) for example), but I feel like this complicates the code, and mixes code & data in broadly unhelpful ways. \n",
    "- These files will have to be initially written out, defining metadata and descriptions of interest. The goal is that once these files are set up (for a particular experiment) then the goal is that updating these files for new recordings should be be plug-and-play.\n",
    "- I presume some amount of meta-data comes at us in pretty variable ways, and someone has to organize it. Part of the idea here is that someone responsible for receiving data and organizing it for conversion can do manual curation, as needed, and to make this as easy and foolproof as possible. \n",
    "- We are somewhat stretching the notion of a \"configuration\" file, including sometimes wanting potentially relatively lengthy strings. Files that more support more text data are therefore potentially useful."
   ]
  },
  {
   "cell_type": "code",
   "execution_count": 130,
   "id": "operational-conspiracy",
   "metadata": {},
   "outputs": [],
   "source": [
    "%config Completer.use_jedi = False"
   ]
  },
  {
   "cell_type": "markdown",
   "id": "dressed-maria",
   "metadata": {},
   "source": [
    "# Setup"
   ]
  },
  {
   "cell_type": "code",
   "execution_count": 131,
   "id": "robust-russian",
   "metadata": {},
   "outputs": [],
   "source": [
    "import os\n",
    "from os.path import join as pjoin"
   ]
  },
  {
   "cell_type": "code",
   "execution_count": 132,
   "id": "incorrect-shade",
   "metadata": {},
   "outputs": [
    {
     "name": "stdout",
     "output_type": "stream",
     "text": [
      "['test_config.json', 'test_config.yaml', 'subject_info.yaml', 'test_config.cfg', 'test_ini.ini', 'site_info.yaml', 'task_info.yaml']\n"
     ]
    }
   ],
   "source": [
    "config_files = os.listdir('configs')\n",
    "print(config_files)"
   ]
  },
  {
   "cell_type": "code",
   "execution_count": 133,
   "id": "christian-calcium",
   "metadata": {},
   "outputs": [],
   "source": [
    "def file_filter(files, ext):\n",
    "    return [file for file in files if ext in file]"
   ]
  },
  {
   "cell_type": "markdown",
   "id": "asian-dealer",
   "metadata": {},
   "source": [
    "## Config Files (cfg / ini)\n",
    "\n",
    "Note that (I think) [INI files](https://en.wikipedia.org/wiki/INI_file) and what are sometimes called given the `.cfg` extension in Python are effectively the same thing. \n",
    "\n",
    "These files are supported by the `configparser` module. \n",
    "\n",
    "Relevant pages:\n",
    "- https://docs.python.org/3/library/configparser.html"
   ]
  },
  {
   "cell_type": "code",
   "execution_count": 134,
   "id": "charged-treat",
   "metadata": {},
   "outputs": [],
   "source": [
    "import configparser"
   ]
  },
  {
   "cell_type": "code",
   "execution_count": 135,
   "id": "historic-transmission",
   "metadata": {},
   "outputs": [],
   "source": [
    "config = configparser.ConfigParser()"
   ]
  },
  {
   "cell_type": "code",
   "execution_count": 136,
   "id": "instant-luxembourg",
   "metadata": {},
   "outputs": [
    {
     "data": {
      "text/plain": [
       "['test_config.cfg']"
      ]
     },
     "execution_count": 136,
     "metadata": {},
     "output_type": "execute_result"
    }
   ],
   "source": [
    "ini_files = file_filter(config_files, '.cfg')\n",
    "ini_files"
   ]
  },
  {
   "cell_type": "code",
   "execution_count": 137,
   "id": "atmospheric-substance",
   "metadata": {},
   "outputs": [
    {
     "data": {
      "text/plain": [
       "['configs/test_config.cfg']"
      ]
     },
     "execution_count": 137,
     "metadata": {},
     "output_type": "execute_result"
    }
   ],
   "source": [
    "config.read(pjoin('configs', ini_files[0]))"
   ]
  },
  {
   "cell_type": "code",
   "execution_count": 138,
   "id": "boolean-composite",
   "metadata": {},
   "outputs": [
    {
     "data": {
      "text/plain": [
       "['Recording', 'Device', 'Task']"
      ]
     },
     "execution_count": 138,
     "metadata": {},
     "output_type": "execute_result"
    }
   ],
   "source": [
    "config.sections()"
   ]
  },
  {
   "cell_type": "code",
   "execution_count": 139,
   "id": "abstract-intake",
   "metadata": {},
   "outputs": [
    {
     "name": "stdout",
     "output_type": "stream",
     "text": [
      "location\n",
      "value\n"
     ]
    }
   ],
   "source": [
    "for key in config['Recording']:\n",
    "    print(key)"
   ]
  },
  {
   "cell_type": "code",
   "execution_count": 140,
   "id": "breeding-point",
   "metadata": {},
   "outputs": [
    {
     "data": {
      "text/plain": [
       "'Baylor Hospital'"
      ]
     },
     "execution_count": 140,
     "metadata": {},
     "output_type": "execute_result"
    }
   ],
   "source": [
    "config['Recording']['location']"
   ]
  },
  {
   "cell_type": "markdown",
   "id": "global-steam",
   "metadata": {},
   "source": [
    "## YAML\n",
    "\n",
    "Relevant pages:\n",
    "- https://www.cloudbees.com/blog/yaml-tutorial-everything-you-need-get-started/"
   ]
  },
  {
   "cell_type": "code",
   "execution_count": 141,
   "id": "alert-species",
   "metadata": {},
   "outputs": [],
   "source": [
    "import yaml"
   ]
  },
  {
   "cell_type": "code",
   "execution_count": 142,
   "id": "incorrect-commonwealth",
   "metadata": {},
   "outputs": [
    {
     "data": {
      "text/plain": [
       "['test_config.yaml', 'subject_info.yaml', 'site_info.yaml', 'task_info.yaml']"
      ]
     },
     "execution_count": 142,
     "metadata": {},
     "output_type": "execute_result"
    }
   ],
   "source": [
    "yaml_files = file_filter(config_files, '.yaml')\n",
    "yaml_files"
   ]
  },
  {
   "cell_type": "code",
   "execution_count": 143,
   "id": "breathing-giving",
   "metadata": {},
   "outputs": [],
   "source": [
    "with open(pjoin('configs',  yaml_files[0]), 'r') as stream:\n",
    "    data = yaml.safe_load(stream)"
   ]
  },
  {
   "cell_type": "code",
   "execution_count": 144,
   "id": "consistent-thailand",
   "metadata": {},
   "outputs": [
    {
     "data": {
      "text/plain": [
       "dict"
      ]
     },
     "execution_count": 144,
     "metadata": {},
     "output_type": "execute_result"
    }
   ],
   "source": [
    "type(data)"
   ]
  },
  {
   "cell_type": "code",
   "execution_count": 145,
   "id": "social-cylinder",
   "metadata": {},
   "outputs": [
    {
     "data": {
      "text/plain": [
       "{'name': 'xx',\n",
       " 'description': 'This is a description of a thing that uses a whole bunch of words.',\n",
       " 'keywords': ['neurosurgery', 'single-units']}"
      ]
     },
     "execution_count": 145,
     "metadata": {},
     "output_type": "execute_result"
    }
   ],
   "source": [
    "data"
   ]
  },
  {
   "cell_type": "markdown",
   "id": "circular-malaysia",
   "metadata": {},
   "source": [
    "## JSON"
   ]
  },
  {
   "cell_type": "code",
   "execution_count": 146,
   "id": "failing-dominican",
   "metadata": {},
   "outputs": [],
   "source": [
    "import json"
   ]
  },
  {
   "cell_type": "code",
   "execution_count": 149,
   "id": "handy-melbourne",
   "metadata": {},
   "outputs": [
    {
     "data": {
      "text/plain": [
       "['test_config.json']"
      ]
     },
     "execution_count": 149,
     "metadata": {},
     "output_type": "execute_result"
    }
   ],
   "source": [
    "json_files = file_filter(config_files, '.json')\n",
    "json_files"
   ]
  },
  {
   "cell_type": "code",
   "execution_count": 150,
   "id": "adjusted-thursday",
   "metadata": {},
   "outputs": [],
   "source": [
    "with open(pjoin('configs',  json_files[0]), 'r') as json_file:\n",
    "    data = json.load(json_file)"
   ]
  },
  {
   "cell_type": "code",
   "execution_count": 151,
   "id": "prompt-television",
   "metadata": {},
   "outputs": [
    {
     "data": {
      "text/plain": [
       "{'id': 1111,\n",
       " 'name': 'xx',\n",
       " 'description': 'This is a description of a thing that uses a whole bunch of words.',\n",
       " 'keywords': ['neurosurgery', 'single-units']}"
      ]
     },
     "execution_count": 151,
     "metadata": {},
     "output_type": "execute_result"
    }
   ],
   "source": [
    "data"
   ]
  }
 ],
 "metadata": {
  "kernelspec": {
   "display_name": "Python 3",
   "language": "python",
   "name": "python3"
  },
  "language_info": {
   "codemirror_mode": {
    "name": "ipython",
    "version": 3
   },
   "file_extension": ".py",
   "mimetype": "text/x-python",
   "name": "python",
   "nbconvert_exporter": "python",
   "pygments_lexer": "ipython3",
   "version": "3.8.8"
  }
 },
 "nbformat": 4,
 "nbformat_minor": 5
}
