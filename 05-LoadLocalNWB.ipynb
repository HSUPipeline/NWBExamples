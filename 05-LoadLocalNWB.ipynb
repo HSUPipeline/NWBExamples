{
 "cells": [
  {
   "cell_type": "markdown",
   "metadata": {},
   "source": [
    "# Reload & Explore Local NWB Data\n",
    "\n",
    "This notebook loads a NWB file that has been created for a local dataset, and explores it, with some basic proof-of-concept analyses. "
   ]
  },
  {
   "cell_type": "code",
   "execution_count": 1,
   "metadata": {},
   "outputs": [],
   "source": [
    "%config Completer.use_jedi = False"
   ]
  },
  {
   "cell_type": "code",
   "execution_count": 2,
   "metadata": {},
   "outputs": [],
   "source": [
    "import numpy as np\n",
    "import matplotlib.pyplot as plt\n",
    "\n",
    "from pynwb import NWBHDF5IO"
   ]
  },
  {
   "cell_type": "markdown",
   "metadata": {},
   "source": [
    "## Load File"
   ]
  },
  {
   "cell_type": "code",
   "execution_count": 3,
   "metadata": {},
   "outputs": [],
   "source": [
    "# Read in an local data NWB file\n",
    "io = NWBHDF5IO('nwb_local_data.nwb', 'r')\n",
    "nwbfile = io.read()"
   ]
  },
  {
   "cell_type": "code",
   "execution_count": 4,
   "metadata": {},
   "outputs": [
    {
     "data": {
      "text/plain": [
       "root pynwb.file.NWBFile at 0x140383503725328\n",
       "Fields:\n",
       "  acquisition: {\n",
       "    field_data <class 'pynwb.ecephys.ElectricalSeries'>,\n",
       "    position <class 'pynwb.behavior.Position'>\n",
       "  }\n",
       "  devices: {\n",
       "    RECORDING DEVICE <class 'pynwb.device.Device'>\n",
       "  }\n",
       "  electrode_groups: {\n",
       "    A-microwires-chnum <class 'pynwb.ecephys.ElectrodeGroup'>\n",
       "  }\n",
       "  electrodes: electrodes <class 'hdmf.common.table.DynamicTable'>\n",
       "  experiment_description: Example conversion to NWB format.\n",
       "  experimenter: ['XX']\n",
       "  file_create_date: [datetime.datetime(2021, 3, 31, 16, 27, 40, 562414, tzinfo=tzoffset(None, -14400))]\n",
       "  identifier: XX\n",
       "  institution: Columbia\n",
       "  intervals: {\n",
       "    trials <class 'pynwb.epoch.TimeIntervals'>\n",
       "  }\n",
       "  lab: U01 Group\n",
       "  processing: {\n",
       "    position_measures <class 'pynwb.base.ProcessingModule'>\n",
       "  }\n",
       "  session_description: XX\n",
       "  session_id: 001\n",
       "  session_start_time: 2021-03-31 16:27:40.561797-04:00\n",
       "  stimulus: {\n",
       "    chest_positions <class 'pynwb.base.TimeSeries'>\n",
       "  }\n",
       "  subject: subject pynwb.file.Subject at 0x140383504107552\n",
       "Fields:\n",
       "  species: human\n",
       "\n",
       "  timestamps_reference_time: 2021-03-31 16:27:40.561797-04:00\n",
       "  trials: trials <class 'pynwb.epoch.TimeIntervals'>\n",
       "  units: units <class 'pynwb.misc.Units'>"
      ]
     },
     "execution_count": 4,
     "metadata": {},
     "output_type": "execute_result"
    }
   ],
   "source": [
    "nwbfile"
   ]
  },
  {
   "cell_type": "markdown",
   "metadata": {},
   "source": [
    "## Check Position Data"
   ]
  },
  {
   "cell_type": "code",
   "execution_count": 5,
   "metadata": {},
   "outputs": [
    {
     "data": {
      "text/plain": [
       "position pynwb.behavior.Position at 0x140383503920768\n",
       "Fields:\n",
       "  spatial_series: {\n",
       "    xy_pos <class 'pynwb.behavior.SpatialSeries'>\n",
       "  }"
      ]
     },
     "execution_count": 5,
     "metadata": {},
     "output_type": "execute_result"
    }
   ],
   "source": [
    "# Check the position data store\n",
    "nwbfile.acquisition['position']"
   ]
  },
  {
   "cell_type": "code",
   "execution_count": 6,
   "metadata": {},
   "outputs": [],
   "source": [
    "# Grab the position data\n",
    "pos = nwbfile.acquisition['position']['xy_pos']"
   ]
  },
  {
   "cell_type": "code",
   "execution_count": 7,
   "metadata": {},
   "outputs": [
    {
     "data": {
      "text/plain": [
       "[<matplotlib.lines.Line2D at 0x7fad95023130>]"
      ]
     },
     "execution_count": 7,
     "metadata": {},
     "output_type": "execute_result"
    },
    {
     "data": {
      "image/png": "[encoded data removed]",
      "text/plain": [
       "<Figure size 432x288 with 1 Axes>"
      ]
     },
     "metadata": {
      "needs_background": "light"
     },
     "output_type": "display_data"
    }
   ],
   "source": [
    "# Plot the map across all position traces\n",
    "plt.plot(*pos.data)"
   ]
  },
  {
   "cell_type": "code",
   "execution_count": 8,
   "metadata": {},
   "outputs": [],
   "source": [
    "# Extract position data\n",
    "x_data = pos.data[0, :]\n",
    "y_data = pos.data[1, :]"
   ]
  },
  {
   "cell_type": "code",
   "execution_count": 9,
   "metadata": {},
   "outputs": [
    {
     "name": "stdout",
     "output_type": "stream",
     "text": [
      "x data range:   8.19 - 166.46\n",
      "y data range: -40.09 -  54.27\n"
     ]
    }
   ],
   "source": [
    "# Check position ranges\n",
    "print('x data range: {:6.2f} - {:6.2f}'.format(np.min(x_data), np.max(x_data)))\n",
    "print('y data range: {:6.2f} - {:6.2f}'.format(np.min(y_data), np.max(y_data)))"
   ]
  },
  {
   "cell_type": "markdown",
   "metadata": {},
   "source": [
    "## Field Data"
   ]
  },
  {
   "cell_type": "code",
   "execution_count": 10,
   "metadata": {},
   "outputs": [
    {
     "data": {
      "text/plain": [
       "field_data pynwb.ecephys.ElectricalSeries at 0x140383503917648\n",
       "Fields:\n",
       "  comments: ...\n",
       "  conversion: 1.0\n",
       "  data: <HDF5 dataset \"data\": shape (1, 1797825), type \"<f8\">\n",
       "  description: ...\n",
       "  electrodes: electrodes <class 'hdmf.common.table.DynamicTableRegion'>\n",
       "  rate: 1000.0\n",
       "  resolution: inf\n",
       "  starting_time: 0.0\n",
       "  starting_time_unit: seconds\n",
       "  unit: volts"
      ]
     },
     "execution_count": 10,
     "metadata": {},
     "output_type": "execute_result"
    }
   ],
   "source": [
    "# Check field data\n",
    "nwbfile.acquisition['field_data']"
   ]
  },
  {
   "cell_type": "code",
   "execution_count": 11,
   "metadata": {},
   "outputs": [
    {
     "data": {
      "text/plain": [
       "(1, 1797825)"
      ]
     },
     "execution_count": 11,
     "metadata": {},
     "output_type": "execute_result"
    }
   ],
   "source": [
    "# Check size of the field data\n",
    "nwbfile.acquisition['field_data'].data.shape"
   ]
  },
  {
   "cell_type": "code",
   "execution_count": 12,
   "metadata": {},
   "outputs": [
    {
     "data": {
      "text/plain": [
       "array([  0.58578331,  -0.59403631,  21.57869578,  13.22825244,\n",
       "        59.3795271 , 106.49539944, 117.223412  ,  90.71552974,\n",
       "        38.56281563,  39.92339033])"
      ]
     },
     "execution_count": 12,
     "metadata": {},
     "output_type": "execute_result"
    }
   ],
   "source": [
    "# Grab a few values from the field data\n",
    "#   Unclear why are currently two levels of index\n",
    "nwbfile.acquisition['field_data'].data[0][0:10]"
   ]
  },
  {
   "cell_type": "code",
   "execution_count": 13,
   "metadata": {},
   "outputs": [
    {
     "data": {
      "text/plain": [
       "[<matplotlib.lines.Line2D at 0x7fad956310a0>]"
      ]
     },
     "execution_count": 13,
     "metadata": {},
     "output_type": "execute_result"
    },
    {
     "data": {
      "image/png": "[encoded data removed]",
      "text/plain": [
       "<Figure size 432x288 with 1 Axes>"
      ]
     },
     "metadata": {
      "needs_background": "light"
     },
     "output_type": "display_data"
    }
   ],
   "source": [
    "# Plot one second of the recorded field data\n",
    "plt.plot(nwbfile.acquisition['field_data'].data[0][0:1000])"
   ]
  },
  {
   "cell_type": "markdown",
   "metadata": {},
   "source": [
    "## Units Data"
   ]
  },
  {
   "cell_type": "code",
   "execution_count": 14,
   "metadata": {},
   "outputs": [
    {
     "data": {
      "text/plain": [
       "units pynwb.misc.Units at 0x140383504108656\n",
       "Fields:\n",
       "  colnames: ['spike_times' 'electrodes' 'waveform_mean']\n",
       "  columns: (\n",
       "    spike_times_index <class 'hdmf.common.table.VectorIndex'>,\n",
       "    spike_times <class 'hdmf.common.table.VectorData'>,\n",
       "    electrodes_index <class 'hdmf.common.table.VectorIndex'>,\n",
       "    electrodes <class 'hdmf.common.table.DynamicTableRegion'>,\n",
       "    waveform_mean <class 'hdmf.common.table.VectorData'>\n",
       "  )\n",
       "  description: Autogenerated by NWBFile\n",
       "  id: id <class 'hdmf.common.table.ElementIdentifiers'>\n",
       "  waveform_unit: volts"
      ]
     },
     "execution_count": 14,
     "metadata": {},
     "output_type": "execute_result"
    }
   ],
   "source": [
    "nwbfile.units"
   ]
  },
  {
   "cell_type": "code",
   "execution_count": 15,
   "metadata": {},
   "outputs": [],
   "source": [
    "# Pull out all the spike times from NWB file\n",
    "spike_times = nwbfile.units.spike_times"
   ]
  },
  {
   "cell_type": "code",
   "execution_count": 16,
   "metadata": {},
   "outputs": [
    {
     "name": "stdout",
     "output_type": "stream",
     "text": [
      "16\n"
     ]
    }
   ],
   "source": [
    "# Check how many units are in the file\n",
    "n_units = len(nwbfile.units)\n",
    "print(n_units)"
   ]
  },
  {
   "cell_type": "code",
   "execution_count": 17,
   "metadata": {},
   "outputs": [
    {
     "name": "stdout",
     "output_type": "stream",
     "text": [
      "Total number of spikes: 183661\n"
     ]
    }
   ],
   "source": [
    "# Check the total number of spikes\n",
    "print('Total number of spikes: {}'.format(spike_times.shape[0]))"
   ]
  },
  {
   "cell_type": "markdown",
   "metadata": {},
   "source": [
    "#### Check Unit of Interest"
   ]
  },
  {
   "cell_type": "code",
   "execution_count": 18,
   "metadata": {},
   "outputs": [],
   "source": [
    "# Set index\n",
    "uind = 0"
   ]
  },
  {
   "cell_type": "code",
   "execution_count": 19,
   "metadata": {},
   "outputs": [
    {
     "data": {
      "text/plain": [
       "[<matplotlib.lines.Line2D at 0x7fad9732bf40>]"
      ]
     },
     "execution_count": 19,
     "metadata": {},
     "output_type": "execute_result"
    },
    {
     "data": {
      "image/png": "[encoded data removed]",
      "text/plain": [
       "<Figure size 432x288 with 1 Axes>"
      ]
     },
     "metadata": {
      "needs_background": "light"
     },
     "output_type": "display_data"
    }
   ],
   "source": [
    "# Plot waveform from unit of interest\n",
    "plt.plot(nwbfile.units['waveform_mean'][uind, :])"
   ]
  },
  {
   "cell_type": "code",
   "execution_count": 20,
   "metadata": {},
   "outputs": [
    {
     "name": "stdout",
     "output_type": "stream",
     "text": [
      "[ 1139.93713312 15112.58370861 15118.71706239]\n"
     ]
    }
   ],
   "source": [
    "# Grab spikes for requested unit\n",
    "u0_spikes = nwbfile.units.get_unit_spike_times(uind)\n",
    "print(u0_spikes[0:3])"
   ]
  },
  {
   "cell_type": "markdown",
   "metadata": {},
   "source": [
    "## Example Spatial Firing Analysis"
   ]
  },
  {
   "cell_type": "code",
   "execution_count": 21,
   "metadata": {},
   "outputs": [],
   "source": [
    "def get_spike_time_range(spikes, tmin, tmax):\n",
    "    \"\"\"Extract spike times for a particular time range.\"\"\"\n",
    "    \n",
    "    return spikes[np.squeeze(np.logical_and([spikes > tmin], [spikes < tmax]))]\n",
    "\n",
    "\n",
    "def get_spike_locations(spikes, pos):\n",
    "    \"\"\"Get spike activity across binned locations.\n",
    "    \n",
    "    spikes : 1d array\n",
    "    pos : pynwb.behavior.SpatialSeries\n",
    "    \"\"\"\n",
    "\n",
    "    xs = pos.data[0, :]\n",
    "    ys = pos.data[1, :]\n",
    "    \n",
    "    x_counts, x_bins = np.histogram(xs, bins=15)\n",
    "    y_counts, y_bins = np.histogram(ys, bins=10)\n",
    "    \n",
    "    n_xbins = len(x_bins)-1\n",
    "    n_ybins = len(y_bins)-1\n",
    "\n",
    "    out = np.zeros([n_xbins, n_ybins])\n",
    "    \n",
    "    for xbin_ind in range(n_xbins):\n",
    "\n",
    "        in_xbin = np.logical_and(xs > x_bins[xbin_ind], xs < x_bins[xbin_ind + 1])\n",
    "        \n",
    "        for ybin_ind in range(n_ybins):\n",
    "            \n",
    "            in_ybin = np.logical_and(ys > y_bins[ybin_ind], ys < y_bins[ybin_ind + 1])\n",
    "            \n",
    "            in_bin = np.logical_and(in_xbin, in_ybin)\n",
    "                \n",
    "            wheres = np.where(np.diff(in_bin))[0]\n",
    "\n",
    "            bin_spikes = 0\n",
    "            bin_time = 0    \n",
    "            for ind in wheres[:-1]:\n",
    "\n",
    "                t_start = pos.timestamps[ind]\n",
    "                t_stop = pos.timestamps[ind + 1]\n",
    "\n",
    "                bin_spikes += len(get_spike_time_range(spikes, t_start, t_stop))\n",
    "                bin_time += (t_stop - t_start) / 1000\n",
    "            \n",
    "            if bin_time != 0:\n",
    "                out[xbin_ind, ybin_ind] = bin_spikes / bin_time\n",
    "                \n",
    "    out[out == 0.] = np.nan\n",
    "    \n",
    "    return out"
   ]
  },
  {
   "cell_type": "markdown",
   "metadata": {},
   "source": [
    "### Anlyze Unit of Interest"
   ]
  },
  {
   "cell_type": "code",
   "execution_count": 22,
   "metadata": {},
   "outputs": [],
   "source": [
    "# Get spikes for unit of interest\n",
    "s_ind = 5\n",
    "spikes = nwbfile.units.get_unit_spike_times(s_ind)"
   ]
  },
  {
   "cell_type": "code",
   "execution_count": 23,
   "metadata": {},
   "outputs": [],
   "source": [
    "# Get the mapping of spike rate across positions\n",
    "arr = get_spike_locations(spikes, pos)"
   ]
  },
  {
   "cell_type": "code",
   "execution_count": 24,
   "metadata": {},
   "outputs": [
    {
     "name": "stdout",
     "output_type": "stream",
     "text": [
      "Min / Max Firing Rate: 1.29, 10.91\n",
      "3.439732267869471\n",
      "3.8795048611232543\n"
     ]
    }
   ],
   "source": [
    "print('Min / Max Firing Rate: {:1.2f}, {:1.2f}'.format(np.nanmin(arr), np.nanmax(arr)))\n",
    "print(np.nanmedian(arr))\n",
    "print(np.nanmean(arr))"
   ]
  },
  {
   "cell_type": "code",
   "execution_count": 25,
   "metadata": {},
   "outputs": [
    {
     "data": {
      "image/png": "[encoded data removed]",
      "text/plain": [
       "<Figure size 432x288 with 1 Axes>"
      ]
     },
     "metadata": {
      "needs_background": "light"
     },
     "output_type": "display_data"
    }
   ],
   "source": [
    "plt.imshow(arr)\n",
    "plt.axis('off');"
   ]
  },
  {
   "cell_type": "markdown",
   "metadata": {},
   "source": [
    "### Run Analysis Across all units"
   ]
  },
  {
   "cell_type": "code",
   "execution_count": 26,
   "metadata": {
    "scrolled": false
   },
   "outputs": [],
   "source": [
    "# for s_ind in range(len(nwbfile.units)):\n",
    "#     spikes = nwbfile.units.get_unit_spike_times(s_ind)\n",
    "#     arr = get_spike_locations(spikes, pos)\n",
    "#     plt.figure()\n",
    "#     plt.imshow(arr)\n",
    "#     plt.axis('off');\n",
    "#     plt.title('{} : {:1.4}, {:1.4}'.format(s_ind, np.nanmin(arr), np.nanmax(arr)))"
   ]
  },
  {
   "cell_type": "markdown",
   "metadata": {},
   "source": [
    "## Analysis: Button Press Raster\n",
    "\n",
    "A quick analysis looking at spiking around an event of interest: the button press."
   ]
  },
  {
   "cell_type": "code",
   "execution_count": 27,
   "metadata": {},
   "outputs": [],
   "source": [
    "def compute_spike_diffs(spike_times, trial_times, window=1, return_diff=True):\n",
    "    \"\"\"Compute the average difference in spike firing pre vs post time point of interest.\"\"\"\n",
    "    \n",
    "    spike_diffs = []\n",
    "    spikes = []\n",
    "    for trial_time in trial_times:\n",
    "    \n",
    "        pre_spikes = get_spike_time_range(spike_times, trial_time-window, trial_time)\n",
    "        post_spikes = get_spike_time_range(spike_times, trial_time, trial_time+window)\n",
    "\n",
    "        spikes.append(np.hstack([pre_spikes - trial_time, post_spikes  - trial_time]))\n",
    "        spike_diffs.append(len(post_spikes) - len(pre_spikes))\n",
    "        \n",
    "    if return_diff:\n",
    "        return np.mean(spike_diffs)\n",
    "    return spikes\n",
    "\n",
    "\n",
    "def spike_trial_comparison(nwbfile, events, window=1):\n",
    "    \"\"\"Compare spiking across units for an event of interest.\"\"\"\n",
    "    \n",
    "    spike_diffs = {}\n",
    "    for spike_ind in range(len(nwbfile.units)):\n",
    "    \n",
    "        spikes = nwbfile.units.get_unit_spike_times(spike_ind)\n",
    "        spike_diff = compute_spike_diffs(spikes, events, window=window)\n",
    "        spike_diffs['unit_' + str(spike_ind)] = spike_diff\n",
    "    \n",
    "    return spike_diffs\n",
    "\n",
    "\n",
    "def plot_trial_rasters(data, line=0, xlim=None, figsize=None, axis=False):\n",
    "    \"\"\"Plot rasters across multiple trials.\"\"\"\n",
    "    \n",
    "    _, ax = plt.subplots(figsize=figsize)\n",
    "    ax.eventplot(data);\n",
    "    if line is not None:\n",
    "        ax.vlines(line, -1, len(data), lw=2.5, color='green', alpha=0.5);\n",
    "    ax.set_xlim(None)\n",
    "    if not axis:\n",
    "        ax.set_axis_off();"
   ]
  },
  {
   "cell_type": "code",
   "execution_count": 28,
   "metadata": {},
   "outputs": [],
   "source": [
    "button_presses = nwbfile.intervals['trials']['button_press_time'][:]\n",
    "button_presses = button_presses[~np.isnan(button_presses)]\n",
    "\n",
    "#choice_points = nwbfile.intervals['trials']['choice_point_time'][:]\n",
    "#choice_points = choice_points[~np.isnan(choice_points)]"
   ]
  },
  {
   "cell_type": "code",
   "execution_count": 29,
   "metadata": {},
   "outputs": [],
   "source": [
    "window = 500\n",
    "spike_diffs = spike_trial_comparison(nwbfile, button_presses, window)"
   ]
  },
  {
   "cell_type": "code",
   "execution_count": 30,
   "metadata": {},
   "outputs": [
    {
     "name": "stdout",
     "output_type": "stream",
     "text": [
      "Min:  unit_3  -0.50\n",
      "Max:  unit_4   0.67\n"
     ]
    }
   ],
   "source": [
    "min_unit = min(spike_diffs, key=spike_diffs.get)\n",
    "max_unit = max(spike_diffs, key=spike_diffs.get)\n",
    "\n",
    "print(\"Min:  {}  {:5.2f}\".format(min_unit, spike_diffs[min_unit]))\n",
    "print(\"Max:  {}  {:5.2f}\".format(max_unit, spike_diffs[max_unit]))"
   ]
  },
  {
   "cell_type": "code",
   "execution_count": 31,
   "metadata": {},
   "outputs": [
    {
     "data": {
      "text/plain": [
       "{'unit_0': -0.05555555555555555,\n",
       " 'unit_1': -0.16666666666666666,\n",
       " 'unit_2': -0.2222222222222222,\n",
       " 'unit_3': -0.5,\n",
       " 'unit_4': 0.6666666666666666,\n",
       " 'unit_5': 0.6111111111111112,\n",
       " 'unit_6': -0.2222222222222222,\n",
       " 'unit_7': -0.3333333333333333,\n",
       " 'unit_8': 0.2777777777777778,\n",
       " 'unit_9': 0.0,\n",
       " 'unit_10': -0.1111111111111111,\n",
       " 'unit_11': -0.3888888888888889,\n",
       " 'unit_12': -0.4444444444444444,\n",
       " 'unit_13': 0.5555555555555556,\n",
       " 'unit_14': -0.16666666666666666,\n",
       " 'unit_15': -0.2222222222222222}"
      ]
     },
     "execution_count": 31,
     "metadata": {},
     "output_type": "execute_result"
    }
   ],
   "source": [
    "spike_diffs"
   ]
  },
  {
   "cell_type": "code",
   "execution_count": 32,
   "metadata": {},
   "outputs": [
    {
     "data": {
      "image/png": "[encoded data removed]",
      "text/plain": [
       "<Figure size 432x288 with 1 Axes>"
      ]
     },
     "metadata": {
      "needs_background": "light"
     },
     "output_type": "display_data"
    }
   ],
   "source": [
    "# Compare trial spikes for unit of interest\n",
    "s_ind = 5\n",
    "spikes = nwbfile.units.get_unit_spike_times(s_ind)\n",
    "trial_spikes = compute_spike_diffs(spikes, button_presses, window=window, return_diff=False)\n",
    "plot_trial_rasters(trial_spikes, xlim=[-window, window])"
   ]
  },
  {
   "cell_type": "markdown",
   "metadata": {},
   "source": [
    "## Analysis: Raster by space\n",
    "\n",
    "Analyze rasters of spiking across space."
   ]
  },
  {
   "cell_type": "code",
   "execution_count": 33,
   "metadata": {},
   "outputs": [],
   "source": [
    "def get_pos_by_time(timestamps, positions, t_min, t_max):\n",
    "    \"\"\"Extract position data for a requested time range.\"\"\"\n",
    "    \n",
    "    select = np.logical_and(timestamps[:] > t_min, timestamps[:] < t_max)\n",
    "    return timestamps[select], positions[:, select]\n",
    "\n",
    "def get_pos_by_pos(timestamps, positions, x_range=None, y_range=None):\n",
    "    \"\"\"Extract position data for a requested position range.\"\"\"\n",
    "\n",
    "    if not x_range:\n",
    "        x_range = [np.min(positions[0, :]), np.max(positions[1, :])]\n",
    "    if not y_range:\n",
    "        y_range = [np.min(positions[1, :]), np.max(positions[1, :])]\n",
    "        \n",
    "    x_select = np.logical_and(positions[0, :] > x_range[0], positions[0, :] < x_range[1])\n",
    "    y_select = np.logical_and(positions[1, :] > y_range[0], positions[1, :] < y_range[1])\n",
    "    select = np.logical_and(x_select, y_select)\n",
    "        \n",
    "    return timestamps[select], positions[:, select]\n",
    "\n",
    "def get_spike_pos(spikes, timestamps, positions):\n",
    "    \"\"\"Get positions for a set of spikes.\"\"\"\n",
    "    \n",
    "    spike_pos = []\n",
    "    for spike in spikes:\n",
    "        spike_pos.append(positions[:, np.abs(timestamps - spike).argmin()])\n",
    "    return spike_pos"
   ]
  },
  {
   "cell_type": "markdown",
   "metadata": {},
   "source": [
    "### Position Data for a Single Trial"
   ]
  },
  {
   "cell_type": "code",
   "execution_count": 34,
   "metadata": {},
   "outputs": [
    {
     "data": {
      "text/plain": [
       "[<matplotlib.lines.Line2D at 0x7fad972f2700>]"
      ]
     },
     "execution_count": 34,
     "metadata": {},
     "output_type": "execute_result"
    },
    {
     "data": {
      "image/png": "[encoded data removed]",
      "text/plain": [
       "<Figure size 432x288 with 1 Axes>"
      ]
     },
     "metadata": {
      "needs_background": "light"
     },
     "output_type": "display_data"
    }
   ],
   "source": [
    "t_ind = 10\n",
    "_, trial_pos = get_pos_by_time(pos.timestamps, pos.data,\n",
    "                               nwbfile.trials.start_time[t_ind],\n",
    "                               nwbfile.trials.stop_time[t_ind])\n",
    "\n",
    "plt.plot(*trial_pos)\n",
    "plt.plot(*trial_pos[:, 0], '.r', ms=12, alpha=0.5)"
   ]
  },
  {
   "cell_type": "markdown",
   "metadata": {},
   "source": [
    "### XXX"
   ]
  },
  {
   "cell_type": "code",
   "execution_count": 35,
   "metadata": {},
   "outputs": [],
   "source": [
    "#x_range = [100, 140]\n",
    "x_range = [20, 150]\n",
    "y_range = [-50, -25]\n",
    "#y_range = [40, 60]"
   ]
  },
  {
   "cell_type": "code",
   "execution_count": 36,
   "metadata": {},
   "outputs": [],
   "source": [
    "ts, ps = get_pos_by_pos(pos.timestamps, pos.data, x_range, y_range)"
   ]
  },
  {
   "cell_type": "code",
   "execution_count": 37,
   "metadata": {},
   "outputs": [
    {
     "data": {
      "text/plain": [
       "[<matplotlib.lines.Line2D at 0x7fad973d3400>]"
      ]
     },
     "execution_count": 37,
     "metadata": {},
     "output_type": "execute_result"
    },
    {
     "data": {
      "image/png": "[encoded data removed]",
      "text/plain": [
       "<Figure size 432x288 with 1 Axes>"
      ]
     },
     "metadata": {
      "needs_background": "light"
     },
     "output_type": "display_data"
    }
   ],
   "source": [
    "plt.plot(ps[0, :])"
   ]
  },
  {
   "cell_type": "code",
   "execution_count": 38,
   "metadata": {},
   "outputs": [],
   "source": [
    "# Get spikes for unit of interest\n",
    "s_ind = 5\n",
    "spikes = nwbfile.units.get_unit_spike_times(s_ind)"
   ]
  },
  {
   "cell_type": "code",
   "execution_count": 39,
   "metadata": {},
   "outputs": [],
   "source": [
    "# ....\n",
    "t_outs, p_outs = [], []\n",
    "for t_ind in range(len(nwbfile.trials)):\n",
    "    trial_ts, trial_ps = get_pos_by_time(pos.timestamps, pos.data,\n",
    "                                         nwbfile.trials.start_time[t_ind],\n",
    "                                         nwbfile.trials.stop_time[t_ind])\n",
    "    \n",
    "    cur_ts, cur_ps = get_pos_by_pos(trial_ts, trial_ps, x_range, y_range)\n",
    "    t_outs.append(cur_ts)\n",
    "    p_outs.append(cur_ps)"
   ]
  },
  {
   "cell_type": "code",
   "execution_count": 40,
   "metadata": {},
   "outputs": [],
   "source": [
    "# ....\n",
    "trial_pos_spikes = []\n",
    "for t_times in t_outs:\n",
    "    if len(t_times) > 2:\n",
    "        cur_spikes = get_spike_time_range(spikes, t_times[0], t_times[-1])\n",
    "        cur_spike_pos = get_spike_pos(cur_spikes, pos.timestamps, pos.data)\n",
    "        trial_pos_spikes.append(cur_spike_pos)\n",
    "        \n",
    "trial_pos_spikes = [[val[0] for val in middle] for middle in trial_pos_spikes]"
   ]
  },
  {
   "cell_type": "code",
   "execution_count": 42,
   "metadata": {},
   "outputs": [
    {
     "data": {
      "image/png": "[encoded data removed]",
      "text/plain": [
       "<Figure size 1080x360 with 1 Axes>"
      ]
     },
     "metadata": {
      "needs_background": "light"
     },
     "output_type": "display_data"
    }
   ],
   "source": [
    "plot_trial_rasters(trial_pos_spikes, line=None, figsize=(15, 5), axis=True)"
   ]
  },
  {
   "cell_type": "markdown",
   "metadata": {},
   "source": [
    "### Close File"
   ]
  },
  {
   "cell_type": "code",
   "execution_count": null,
   "metadata": {},
   "outputs": [],
   "source": [
    "io.close()"
   ]
  }
 ],
 "metadata": {
  "kernelspec": {
   "display_name": "Python 3",
   "language": "python",
   "name": "python3"
  },
  "language_info": {
   "codemirror_mode": {
    "name": "ipython",
    "version": 3
   },
   "file_extension": ".py",
   "mimetype": "text/x-python",
   "name": "python",
   "nbconvert_exporter": "python",
   "pygments_lexer": "ipython3",
   "version": "3.8.8"
  }
 },
 "nbformat": 4,
 "nbformat_minor": 4
}
