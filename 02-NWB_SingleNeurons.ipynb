{
 "cells": [
  {
   "cell_type": "markdown",
   "id": "authorized-afghanistan",
   "metadata": {},
   "source": [
    "# Test NWB Single Neurons File\n",
    "\n",
    "Adapted from: https://pynwb.readthedocs.io/en/stable/tutorials/domain/ecephys.html"
   ]
  },
  {
   "cell_type": "code",
   "execution_count": 1,
   "id": "auburn-massage",
   "metadata": {},
   "outputs": [],
   "source": [
    "from datetime import datetime\n",
    "from dateutil.tz import tzlocal\n",
    "\n",
    "import numpy as np\n",
    "\n",
    "from pynwb import NWBFile\n",
    "\n",
    "from pynwb.ecephys import ElectricalSeries, SpikeEventSeries"
   ]
  },
  {
   "cell_type": "code",
   "execution_count": 2,
   "id": "final-subscriber",
   "metadata": {},
   "outputs": [],
   "source": [
    "np.random.seed(1234)"
   ]
  },
  {
   "cell_type": "markdown",
   "id": "specified-steering",
   "metadata": {},
   "source": [
    "## Initialize NWB File"
   ]
  },
  {
   "cell_type": "code",
   "execution_count": 3,
   "id": "rural-cleveland",
   "metadata": {},
   "outputs": [],
   "source": [
    "nwbfile = NWBFile('my first synthetic recording', 'EXAMPLE_ID', datetime.now(tzlocal()),\n",
    "                  experimenter='Dr. Bilbo Baggins',\n",
    "                  lab='Bag End Laboratory',\n",
    "                  institution='University of Middle Earth at the Shire',\n",
    "                  experiment_description='I went on an adventure with thirteen dwarves to reclaim vast treasures.',\n",
    "                  session_id='LONELYMTN')"
   ]
  },
  {
   "cell_type": "markdown",
   "id": "warming-elephant",
   "metadata": {},
   "source": [
    "## Devices"
   ]
  },
  {
   "cell_type": "code",
   "execution_count": 4,
   "id": "inner-feature",
   "metadata": {},
   "outputs": [],
   "source": [
    "# Create a device\n",
    "device = nwbfile.create_device(name='electrode_recorder')"
   ]
  },
  {
   "cell_type": "code",
   "execution_count": 5,
   "id": "fundamental-independence",
   "metadata": {},
   "outputs": [],
   "source": [
    "# Create an electrode group\n",
    "electrode_name = 'tetrode1'\n",
    "description = \"an example tetrode\"\n",
    "location = \"somewhere in the hippocampus\"\n",
    "\n",
    "electrode_group = nwbfile.create_electrode_group(electrode_name,\n",
    "                                                 description=description,\n",
    "                                                 location=location,\n",
    "                                                 device=device)"
   ]
  },
  {
   "cell_type": "code",
   "execution_count": 6,
   "id": "occasional-discovery",
   "metadata": {},
   "outputs": [],
   "source": [
    "# Add a collection of electrodes\n",
    "for idx in [1, 2, 3, 4]:\n",
    "    nwbfile.add_electrode(id=idx,\n",
    "                          x=1.0, y=2.0, z=3.0,\n",
    "                          imp=float(-idx),\n",
    "                          location='CA1', filtering='none',\n",
    "                          group=electrode_group)"
   ]
  },
  {
   "cell_type": "markdown",
   "id": "bound-cambridge",
   "metadata": {},
   "source": [
    "## Electrode Table"
   ]
  },
  {
   "cell_type": "code",
   "execution_count": 7,
   "id": "dramatic-quantum",
   "metadata": {},
   "outputs": [],
   "source": [
    "# Grab a sub-selection of electrodes\n",
    "electrode_table_region = nwbfile.create_electrode_table_region([0, 2], 'the first and third electrodes')"
   ]
  },
  {
   "cell_type": "code",
   "execution_count": 8,
   "id": "initial-operation",
   "metadata": {},
   "outputs": [
    {
     "data": {
      "text/plain": [
       "electrodes hdmf.common.table.DynamicTableRegion at 0x140222604738912\n",
       "    Target table: electrodes hdmf.common.table.DynamicTable at 0x140222604739296"
      ]
     },
     "execution_count": 8,
     "metadata": {},
     "output_type": "execute_result"
    }
   ],
   "source": [
    "electrode_table_region"
   ]
  },
  {
   "cell_type": "markdown",
   "id": "reserved-ready",
   "metadata": {},
   "source": [
    "## Add time series data"
   ]
  },
  {
   "cell_type": "code",
   "execution_count": 9,
   "id": "honey-modeling",
   "metadata": {},
   "outputs": [],
   "source": [
    "# Set meta data\n",
    "rate = 10.0\n",
    "\n",
    "# Simulate some example data\n",
    "data_len = 1000\n",
    "ephys_data = np.random.rand(data_len * 2).reshape((data_len, 2))\n",
    "ephys_timestamps = np.arange(data_len) / rate"
   ]
  },
  {
   "cell_type": "code",
   "execution_count": 10,
   "id": "tired-anger",
   "metadata": {},
   "outputs": [],
   "source": [
    "# \n",
    "ephys_ts = ElectricalSeries('test_ephys_data',\n",
    "                            ephys_data,\n",
    "                            electrode_table_region,\n",
    "                            timestamps=ephys_timestamps,\n",
    "                            # Alternatively, could specify starting_time and rate as follows\n",
    "                            # starting_time=ephys_timestamps[0],\n",
    "                            # rate=rate,\n",
    "                            resolution=0.001,\n",
    "                            comments=\"This data was randomly generated with numpy, using 1234 as the seed\",\n",
    "                            description=\"Random numbers generated with numpy.random.rand\")\n",
    "nwbfile.add_acquisition(ephys_ts)"
   ]
  },
  {
   "cell_type": "markdown",
   "id": "after-library",
   "metadata": {},
   "source": [
    "## Add units & spike events"
   ]
  },
  {
   "cell_type": "code",
   "execution_count": 11,
   "id": "continuing-frank",
   "metadata": {},
   "outputs": [],
   "source": [
    "# Add some units \n",
    "nwbfile.add_unit(id=1, electrodes=[0])\n",
    "nwbfile.add_unit(id=2, electrodes=[0])"
   ]
  },
  {
   "cell_type": "markdown",
   "id": "valued-optimum",
   "metadata": {},
   "source": [
    "## Check File"
   ]
  },
  {
   "cell_type": "code",
   "execution_count": 12,
   "id": "baking-denial",
   "metadata": {},
   "outputs": [
    {
     "data": {
      "text/plain": [
       "root pynwb.file.NWBFile at 0x140222604603056\n",
       "Fields:\n",
       "  acquisition: {\n",
       "    test_ephys_data <class 'pynwb.ecephys.ElectricalSeries'>\n",
       "  }\n",
       "  devices: {\n",
       "    electrode_recorder <class 'pynwb.device.Device'>\n",
       "  }\n",
       "  electrode_groups: {\n",
       "    tetrode1 <class 'pynwb.ecephys.ElectrodeGroup'>\n",
       "  }\n",
       "  electrodes: electrodes <class 'hdmf.common.table.DynamicTable'>\n",
       "  experiment_description: I went on an adventure with thirteen dwarves to reclaim vast treasures.\n",
       "  experimenter: ['Dr. Bilbo Baggins']\n",
       "  file_create_date: [datetime.datetime(2021, 3, 23, 10, 57, 58, 222646, tzinfo=tzlocal())]\n",
       "  identifier: EXAMPLE_ID\n",
       "  institution: University of Middle Earth at the Shire\n",
       "  lab: Bag End Laboratory\n",
       "  session_description: my first synthetic recording\n",
       "  session_id: LONELYMTN\n",
       "  session_start_time: 2021-03-23 10:57:58.222044-04:00\n",
       "  timestamps_reference_time: 2021-03-23 10:57:58.222044-04:00\n",
       "  units: units <class 'pynwb.misc.Units'>"
      ]
     },
     "execution_count": 12,
     "metadata": {},
     "output_type": "execute_result"
    }
   ],
   "source": [
    "# Check out the details of the example NWB file\n",
    "nwbfile"
   ]
  }
 ],
 "metadata": {
  "kernelspec": {
   "display_name": "Python 3",
   "language": "python",
   "name": "python3"
  },
  "language_info": {
   "codemirror_mode": {
    "name": "ipython",
    "version": 3
   },
   "file_extension": ".py",
   "mimetype": "text/x-python",
   "name": "python",
   "nbconvert_exporter": "python",
   "pygments_lexer": "ipython3",
   "version": "3.8.8"
  }
 },
 "nbformat": 4,
 "nbformat_minor": 5
}
