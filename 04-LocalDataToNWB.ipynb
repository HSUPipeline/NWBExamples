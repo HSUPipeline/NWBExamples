{
 "cells": [
  {
   "cell_type": "markdown",
   "id": "registered-andrews",
   "metadata": {},
   "source": [
    "# Converting Local Data to NWB"
   ]
  },
  {
   "cell_type": "code",
   "execution_count": 1,
   "id": "social-gilbert",
   "metadata": {},
   "outputs": [],
   "source": [
    "from datetime import datetime\n",
    "from dateutil.tz import tzlocal\n",
    "\n",
    "import numpy as np\n",
    "\n",
    "from pynwb import NWBFile\n",
    "from pynwb.file import Subject\n",
    "from pynwb.behavior import SpatialSeries\n",
    "from pynwb.ecephys import ElectricalSeries, SpikeEventSeries"
   ]
  },
  {
   "cell_type": "markdown",
   "id": "conventional-arctic",
   "metadata": {},
   "source": [
    "### Initialize a NWB File"
   ]
  },
  {
   "cell_type": "code",
   "execution_count": 2,
   "id": "involved-estimate",
   "metadata": {},
   "outputs": [],
   "source": [
    "# Define metadata for NWB file\n",
    "experimenter = ''\n",
    "lab = 'U01 Group'\n",
    "institution = 'Columbia'"
   ]
  },
  {
   "cell_type": "code",
   "execution_count": 3,
   "id": "willing-burning",
   "metadata": {},
   "outputs": [],
   "source": [
    "# Initialize a NWB file\n",
    "nwbfile = NWBFile(session_description='Test conversion.',\n",
    "                  identifier='EXP001', \n",
    "                  session_start_time=datetime.now(tzlocal()),\n",
    "                  experimenter=experimenter,\n",
    "                  lab=lab,\n",
    "                  institution=institution,\n",
    "                  experiment_description='Example conversion to NWB format.',\n",
    "                  session_id='test_session')"
   ]
  },
  {
   "cell_type": "markdown",
   "id": "opposed-croatia",
   "metadata": {},
   "source": [
    "### Define subject"
   ]
  },
  {
   "cell_type": "code",
   "execution_count": 4,
   "id": "increasing-drawing",
   "metadata": {},
   "outputs": [],
   "source": [
    "age = None\n",
    "description = None\n",
    "subject_id = None"
   ]
  },
  {
   "cell_type": "code",
   "execution_count": 5,
   "id": "formal-philip",
   "metadata": {},
   "outputs": [],
   "source": [
    "subject = Subject(age=age, description=description, subject_id=subject_id)"
   ]
  },
  {
   "cell_type": "code",
   "execution_count": 6,
   "id": "remarkable-excuse",
   "metadata": {},
   "outputs": [],
   "source": [
    "# Add subject\n",
    "# ..."
   ]
  },
  {
   "cell_type": "markdown",
   "id": "divine-antique",
   "metadata": {},
   "source": [
    "### Recording Metadata"
   ]
  },
  {
   "cell_type": "code",
   "execution_count": 7,
   "id": "meaningful-ceiling",
   "metadata": {},
   "outputs": [],
   "source": [
    "# Device information\n",
    "device_name = 'RECORDING DEVICE'\n",
    "device_desc = 'RECORDING DEVICE DESCRIPTION'\n",
    "device_manu = 'RECORDING DEVICE MANUFACTURER'\n",
    "\n",
    "# Create device object\n",
    "device = nwbfile.create_device(device_name, device_desc, device_manu)"
   ]
  },
  {
   "cell_type": "code",
   "execution_count": 8,
   "id": "flush-tampa",
   "metadata": {},
   "outputs": [
    {
     "data": {
      "text/plain": [
       "RECORDING DEVICE pynwb.device.Device at 0x140251880848160\n",
       "Fields:\n",
       "  description: RECORDING DEVICE DESCRIPTION\n",
       "  manufacturer: RECORDING DEVICE MANUFACTURER"
      ]
     },
     "execution_count": 8,
     "metadata": {},
     "output_type": "execute_result"
    }
   ],
   "source": [
    "device"
   ]
  },
  {
   "cell_type": "code",
   "execution_count": 9,
   "id": "novel-automation",
   "metadata": {},
   "outputs": [],
   "source": [
    "# Add electrode description\n",
    "location = 'WHERE'\n",
    "electrode_name = '{}-microwires-{}'.format('A', 'chnum')\n",
    "description = \"Behnke Fried/Micro Inner Wire Bundle....ADD DETAILS.\"\n",
    "\n",
    "# Add electrode group\n",
    "electrode_group = nwbfile.create_electrode_group(electrode_name,\n",
    "                                                 description=description,\n",
    "                                                 location=location,\n",
    "                                                 device=device)"
   ]
  },
  {
   "cell_type": "code",
   "execution_count": 10,
   "id": "ongoing-division",
   "metadata": {},
   "outputs": [],
   "source": [
    "# Define electrode information\n",
    "x_pos, y_pos, z_pos = 0.0, 0.0, 0.0\n",
    "imp = np.nan\n",
    "location = 'place'\n",
    "filtering = '0, np.inf'"
   ]
  },
  {
   "cell_type": "code",
   "execution_count": 11,
   "id": "durable-peace",
   "metadata": {},
   "outputs": [],
   "source": [
    "# Add electrode to NWB\n",
    "nwbfile.add_electrode(x_pos, y_pos, z_pos, imp, location, filtering, electrode_group)"
   ]
  },
  {
   "cell_type": "markdown",
   "id": "common-nepal",
   "metadata": {},
   "source": [
    "## Behaviour data"
   ]
  },
  {
   "cell_type": "code",
   "execution_count": 13,
   "id": "yellow-uganda",
   "metadata": {},
   "outputs": [],
   "source": [
    "# Initialize spatial series for location data\n",
    "#spatial = SpatialSeries()"
   ]
  },
  {
   "cell_type": "code",
   "execution_count": 14,
   "id": "offensive-graham",
   "metadata": {},
   "outputs": [],
   "source": [
    "# Add spatial series to NWB file\n",
    "# ..."
   ]
  },
  {
   "cell_type": "markdown",
   "id": "interim-pilot",
   "metadata": {},
   "source": [
    "## Spiking Data"
   ]
  },
  {
   "cell_type": "code",
   "execution_count": 15,
   "id": "residential-optimization",
   "metadata": {},
   "outputs": [],
   "source": [
    "# Add units\n",
    "nwbfile.add_unit()"
   ]
  },
  {
   "cell_type": "markdown",
   "id": "ultimate-projector",
   "metadata": {},
   "source": [
    "## Field Data"
   ]
  },
  {
   "cell_type": "code",
   "execution_count": null,
   "id": "mobile-warner",
   "metadata": {},
   "outputs": [],
   "source": [
    "# Initialize \n",
    "ephys_ts = ElectricalSeries('field_data',\n",
    "                            ephys_data,\n",
    "                            electrode_table_region,\n",
    "                            timestamps=timestamps,\n",
    "                            resolution=np.inf,\n",
    "                            comments=\"...\",\n",
    "                            description=\"...\")"
   ]
  },
  {
   "cell_type": "code",
   "execution_count": null,
   "id": "concrete-monster",
   "metadata": {},
   "outputs": [],
   "source": [
    "# Add LFP data\n",
    "nwbfile.add_acquisition(ephys_ts)"
   ]
  }
 ],
 "metadata": {
  "kernelspec": {
   "display_name": "Python 3",
   "language": "python",
   "name": "python3"
  },
  "language_info": {
   "codemirror_mode": {
    "name": "ipython",
    "version": 3
   },
   "file_extension": ".py",
   "mimetype": "text/x-python",
   "name": "python",
   "nbconvert_exporter": "python",
   "pygments_lexer": "ipython3",
   "version": "3.8.8"
  }
 },
 "nbformat": 4,
 "nbformat_minor": 5
}
