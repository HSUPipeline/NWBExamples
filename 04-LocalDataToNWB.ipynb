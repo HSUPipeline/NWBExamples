{
 "cells": [
  {
   "cell_type": "markdown",
   "id": "unnecessary-arthritis",
   "metadata": {},
   "source": [
    "# Converting Local Data to NWB"
   ]
  },
  {
   "cell_type": "code",
   "execution_count": 1,
   "id": "collected-young",
   "metadata": {},
   "outputs": [],
   "source": [
    "%config Completer.use_jedi = False"
   ]
  },
  {
   "cell_type": "code",
   "execution_count": 2,
   "id": "verified-television",
   "metadata": {},
   "outputs": [],
   "source": [
    "import os\n",
    "from os.path import join as pjoin\n",
    "\n",
    "from datetime import datetime\n",
    "from dateutil.tz import tzlocal\n",
    "\n",
    "import h5py\n",
    "import joblib\n",
    "import numpy as np\n",
    "import pandas as pd\n",
    "\n",
    "from pynwb import NWBFile, NWBHDF5IO, TimeSeries\n",
    "from pynwb.file import Subject\n",
    "from pynwb.behavior import Position, SpatialSeries\n",
    "from pynwb.ecephys import ElectricalSeries, SpikeEventSeries"
   ]
  },
  {
   "cell_type": "markdown",
   "id": "wanted-water",
   "metadata": {},
   "source": [
    "### Settings"
   ]
  },
  {
   "cell_type": "code",
   "execution_count": 3,
   "id": "impossible-islam",
   "metadata": {},
   "outputs": [],
   "source": [
    "folder = 'data/'"
   ]
  },
  {
   "cell_type": "code",
   "execution_count": 4,
   "id": "established-representation",
   "metadata": {},
   "outputs": [],
   "source": [
    "# Load behavior data\n",
    "df = pd.read_csv(pjoin(folder, 'behavior', 'events.csv'))"
   ]
  },
  {
   "cell_type": "markdown",
   "id": "corporate-bachelor",
   "metadata": {},
   "source": [
    "## Initialize a NWB File\n",
    "\n",
    "Set up the file."
   ]
  },
  {
   "cell_type": "markdown",
   "id": "boring-insert",
   "metadata": {},
   "source": [
    "### Define Recording Metadata"
   ]
  },
  {
   "cell_type": "code",
   "execution_count": 5,
   "id": "existing-southeast",
   "metadata": {},
   "outputs": [],
   "source": [
    "# Define metadata for NWB file\n",
    "session_description = 'XX'\n",
    "experiment_description = 'Example conversion to NWB format.'\n",
    "identifier = 'XX'\n",
    "experimenter = 'XX'\n",
    "lab = 'U01 Group'\n",
    "institution = 'Columbia'\n",
    "session_id = '001'"
   ]
  },
  {
   "cell_type": "markdown",
   "id": "thick-shaft",
   "metadata": {},
   "source": [
    "### Define Subject Information"
   ]
  },
  {
   "cell_type": "code",
   "execution_count": 6,
   "id": "studied-measurement",
   "metadata": {},
   "outputs": [],
   "source": [
    "# Set subject information\n",
    "age = None\n",
    "sex = None\n",
    "description = None\n",
    "species = 'human'\n",
    "subject_id = None"
   ]
  },
  {
   "cell_type": "code",
   "execution_count": 7,
   "id": "partial-pioneer",
   "metadata": {},
   "outputs": [],
   "source": [
    "# Create subject object\n",
    "subject = Subject(age=age,\n",
    "                  sex=sex,\n",
    "                  description=description, \n",
    "                  species=species,\n",
    "                  subject_id=subject_id)"
   ]
  },
  {
   "cell_type": "markdown",
   "id": "aquatic-morrison",
   "metadata": {},
   "source": [
    "### Collect together into NWB file"
   ]
  },
  {
   "cell_type": "code",
   "execution_count": 8,
   "id": "amino-landing",
   "metadata": {},
   "outputs": [],
   "source": [
    "# Initialize a NWB file\n",
    "nwbfile = NWBFile(session_description=session_description,\n",
    "                  identifier=identifier, \n",
    "                  session_start_time=datetime.now(tzlocal()),\n",
    "                  experimenter=experimenter,\n",
    "                  lab=lab,\n",
    "                  institution=institution,\n",
    "                  experiment_description=experiment_description,\n",
    "                  subject=subject,\n",
    "                  session_id=session_id)"
   ]
  },
  {
   "cell_type": "markdown",
   "id": "hazardous-antigua",
   "metadata": {},
   "source": [
    "## Recording Definition"
   ]
  },
  {
   "cell_type": "markdown",
   "id": "higher-scope",
   "metadata": {},
   "source": [
    "### Device(s)"
   ]
  },
  {
   "cell_type": "code",
   "execution_count": 9,
   "id": "circular-footage",
   "metadata": {},
   "outputs": [],
   "source": [
    "# Device information\n",
    "device_name = 'RECORDING DEVICE'\n",
    "device_desc = 'RECORDING DEVICE DESCRIPTION'\n",
    "device_manu = 'RECORDING DEVICE MANUFACTURER'\n",
    "\n",
    "# Create device object\n",
    "device = nwbfile.create_device(device_name, device_desc, device_manu)"
   ]
  },
  {
   "cell_type": "code",
   "execution_count": 10,
   "id": "conditional-wilson",
   "metadata": {},
   "outputs": [
    {
     "data": {
      "text/plain": [
       "RECORDING DEVICE pynwb.device.Device at 0x140467618903952\n",
       "Fields:\n",
       "  description: RECORDING DEVICE DESCRIPTION\n",
       "  manufacturer: RECORDING DEVICE MANUFACTURER"
      ]
     },
     "execution_count": 10,
     "metadata": {},
     "output_type": "execute_result"
    }
   ],
   "source": [
    "# Check out the defined device\n",
    "device"
   ]
  },
  {
   "cell_type": "markdown",
   "id": "deluxe-fountain",
   "metadata": {},
   "source": [
    "### Electrodes"
   ]
  },
  {
   "cell_type": "code",
   "execution_count": 11,
   "id": "gross-office",
   "metadata": {},
   "outputs": [],
   "source": [
    "# Add electrode description\n",
    "location = 'WHERE'\n",
    "electrode_name = '{}-microwires-{}'.format('A', 'chnum')\n",
    "description = \"Behnke Fried/Micro Inner Wire Bundle....ADD DETAILS.\"\n",
    "\n",
    "# Add electrode group\n",
    "electrode_group = nwbfile.create_electrode_group(electrode_name,\n",
    "                                                 description=description,\n",
    "                                                 location=location,\n",
    "                                                 device=device)"
   ]
  },
  {
   "cell_type": "code",
   "execution_count": 12,
   "id": "desperate-induction",
   "metadata": {},
   "outputs": [],
   "source": [
    "# Define / get electrode information\n",
    "x_pos, y_pos, z_pos = 0.0, 0.0, 0.0\n",
    "imp = np.nan\n",
    "location = 'place'\n",
    "filtering = '0, np.inf'\n",
    "reference = None"
   ]
  },
  {
   "cell_type": "code",
   "execution_count": 13,
   "id": "charged-nirvana",
   "metadata": {},
   "outputs": [],
   "source": [
    "# Add electrode to NWB\n",
    "n_electrodes = 5\n",
    "for ind in range(n_electrodes):\n",
    "    nwbfile.add_electrode(x_pos, y_pos, z_pos, imp, location, filtering, electrode_group, \n",
    "                          id=ind, reference=reference)"
   ]
  },
  {
   "cell_type": "markdown",
   "id": "younger-charm",
   "metadata": {},
   "source": [
    "## Stimuli\n",
    "\n",
    "Chest coordinates define our stimuli of interest. \n",
    "\n",
    "Note that they are saved as strings within the DF, and so need type casting."
   ]
  },
  {
   "cell_type": "code",
   "execution_count": 14,
   "id": "moved-religious",
   "metadata": {},
   "outputs": [
    {
     "name": "stdout",
     "output_type": "stream",
     "text": [
      "[(63.90156, -38.97487), (103.6756, 53.94187)]\n"
     ]
    }
   ],
   "source": [
    "# Check the chest positions\n",
    "chest_positions = set(df['chest_coords']).pop()\n",
    "print(chest_positions)"
   ]
  },
  {
   "cell_type": "code",
   "execution_count": 15,
   "id": "collected-disclaimer",
   "metadata": {},
   "outputs": [],
   "source": [
    "# Wrangle the string values of the chest coordinates\n",
    "for char in ['[', ']', '(', ')']:\n",
    "    chest_positions = chest_positions.replace(char, '')\n",
    "chest_positions = chest_positions.split(', ')\n",
    "chest_positions = [float(val) for val in chest_positions]\n",
    "chest_positions = np.reshape(chest_positions, (2, 2))"
   ]
  },
  {
   "cell_type": "code",
   "execution_count": 16,
   "id": "grateful-reliance",
   "metadata": {},
   "outputs": [],
   "source": [
    "# Create an NWB object to store the chest positions\n",
    "chest_description = 'Positions of the chests.'\n",
    "chest_position = TimeSeries(name='chest_positions',\n",
    "                            data=chest_positions,\n",
    "                            rate=0.,\n",
    "                            unit='pos',\n",
    "                            description=chest_description) \n",
    "\n",
    "# Add chest position definition to file\n",
    "nwbfile.add_stimulus(chest_position)\n",
    "\n",
    "# Note: could add this as two different stimuli, one for each chest, perhaps (?)"
   ]
  },
  {
   "cell_type": "markdown",
   "id": "weekly-humor",
   "metadata": {},
   "source": [
    "## Behaviour data"
   ]
  },
  {
   "cell_type": "markdown",
   "id": "utility-wound",
   "metadata": {},
   "source": [
    "### Trial Data"
   ]
  },
  {
   "cell_type": "code",
   "execution_count": 17,
   "id": "numerical-seller",
   "metadata": {},
   "outputs": [],
   "source": [
    "nwbfile.add_trial_column('choice_point_time', 'Time when subject arives at the direction choice point.')\n",
    "nwbfile.add_trial_column('button_press_time', 'Time when subject presses the button.')"
   ]
  },
  {
   "cell_type": "code",
   "execution_count": 18,
   "id": "manual-symbol",
   "metadata": {},
   "outputs": [],
   "source": [
    "times = np.array(df['spikeoffset'])"
   ]
  },
  {
   "cell_type": "code",
   "execution_count": 19,
   "id": "infrared-break",
   "metadata": {},
   "outputs": [],
   "source": [
    "# Get all trial start times\n",
    "trial_start_times = times[np.hstack([np.array([0]), np.where(np.diff(df['trial']))[0]])]\n",
    "\n",
    "# Get button presses, and fill first half of session, with not button presses\n",
    "button_times = np.hstack([np.array([np.nan] * 18),\n",
    "                          times[np.where(df['button_press'])[0]]])\n",
    "\n",
    "# Add a couple NaNs to the beginning (no choice points in first two trials?)\n",
    "choice_point_times = np.hstack([np.array([np.nan, np.nan]),\n",
    "                                times[np.where(df['choice_point'])[0]]])"
   ]
  },
  {
   "cell_type": "code",
   "execution_count": 20,
   "id": "piano-appointment",
   "metadata": {},
   "outputs": [],
   "source": [
    "n_trials = len(trial_start_times) - 1"
   ]
  },
  {
   "cell_type": "code",
   "execution_count": 21,
   "id": "ordered-harrison",
   "metadata": {},
   "outputs": [],
   "source": [
    "# Add event information to NWB file\n",
    "for t_ind in range(n_trials):\n",
    "    nwbfile.add_trial(start_time=trial_start_times[t_ind],\n",
    "                      stop_time=trial_start_times[t_ind + 1] -1,\n",
    "                      choice_point_time=choice_point_times[t_ind],\n",
    "                      button_press_time=button_times[ind])"
   ]
  },
  {
   "cell_type": "markdown",
   "id": "ceramic-possession",
   "metadata": {},
   "source": [
    "### Position Data"
   ]
  },
  {
   "cell_type": "code",
   "execution_count": 22,
   "id": "continuous-index",
   "metadata": {},
   "outputs": [],
   "source": [
    "# Grab location data\n",
    "times = np.array(df['spikeoffset'])\n",
    "loc_data = np.vstack([df['x'], df['z']])"
   ]
  },
  {
   "cell_type": "code",
   "execution_count": 23,
   "id": "potential-stuart",
   "metadata": {},
   "outputs": [],
   "source": [
    "position = Position(name='position')"
   ]
  },
  {
   "cell_type": "code",
   "execution_count": 24,
   "id": "latter-audit",
   "metadata": {},
   "outputs": [
    {
     "data": {
      "text/plain": [
       "xy_pos pynwb.behavior.SpatialSeries at 0x140467607049552\n",
       "Fields:\n",
       "  comments: no comments\n",
       "  conversion: 1.0\n",
       "  data: [[142.9      142.8993   142.8983   ... 151.0366   150.8509   142.9     ]\n",
       " [  8.9        8.900005   8.900008 ...   9.314151   9.257134   8.9     ]]\n",
       "  description: XY position....\n",
       "  interval: 1\n",
       "  reference_frame: middle\n",
       "  resolution: -1.0\n",
       "  timestamps: [1660369.0700531  1670594.83218193 1670610.83197594 ... 3562898.81801605\n",
       " 3562924.8175621  3563926.79405212]\n",
       "  timestamps_unit: seconds\n",
       "  unit: meters"
      ]
     },
     "execution_count": 24,
     "metadata": {},
     "output_type": "execute_result"
    }
   ],
   "source": [
    "position.create_spatial_series(name = 'xy_pos',\n",
    "                               data = loc_data,\n",
    "                               timestamps=times,\n",
    "                               reference_frame='middle',\n",
    "                               description='XY position....')"
   ]
  },
  {
   "cell_type": "code",
   "execution_count": 25,
   "id": "designed-joshua",
   "metadata": {},
   "outputs": [],
   "source": [
    "# position.create_spatial_series(name='speed',\n",
    "#                                data = np.array(df['speed']),\n",
    "#                                timestamps=times,\n",
    "#                                reference_frame='0')\n",
    "\n",
    "# position.create_spatial_series(name='linear_position',\n",
    "#                                data = np.array(df['linear_position']),\n",
    "#                                timestamps=times,\n",
    "#                                reference_frame='0')"
   ]
  },
  {
   "cell_type": "code",
   "execution_count": 26,
   "id": "ceramic-adventure",
   "metadata": {},
   "outputs": [],
   "source": [
    "# Add spatial series to NWB file\n",
    "nwbfile.add_acquisition(position)"
   ]
  },
  {
   "cell_type": "markdown",
   "id": "frank-motel",
   "metadata": {},
   "source": [
    "#### Add position derived measures as ProcessingModule"
   ]
  },
  {
   "cell_type": "code",
   "execution_count": 27,
   "id": "bored-project",
   "metadata": {},
   "outputs": [],
   "source": [
    "from pynwb import ProcessingModule"
   ]
  },
  {
   "cell_type": "code",
   "execution_count": 28,
   "id": "original-growing",
   "metadata": {},
   "outputs": [],
   "source": [
    "speed = TimeSeries(name='speed',\n",
    "                   data = np.array(df['speed']),\n",
    "                   unit = 'm/s', # ??\n",
    "                   timestamps=times)\n",
    "\n",
    "linear_position = TimeSeries(name='linear_position',\n",
    "                             data = np.array(df['linear_position']),\n",
    "                             unit = 'm', # ??\n",
    "                             timestamps=times)"
   ]
  },
  {
   "cell_type": "code",
   "execution_count": 29,
   "id": "needed-steps",
   "metadata": {},
   "outputs": [],
   "source": [
    "position_things = ProcessingModule(name='position_measures',\n",
    "                                   description='Derived measures related to position data.',\n",
    "                                   data_interfaces=[speed, linear_position])"
   ]
  },
  {
   "cell_type": "code",
   "execution_count": 30,
   "id": "atmospheric-smooth",
   "metadata": {},
   "outputs": [
    {
     "data": {
      "text/plain": [
       "position_measures pynwb.base.ProcessingModule at 0x140467607049648\n",
       "Fields:\n",
       "  data_interfaces: {\n",
       "    linear_position <class 'pynwb.base.TimeSeries'>,\n",
       "    speed <class 'pynwb.base.TimeSeries'>\n",
       "  }\n",
       "  description: Derived measures related to position data."
      ]
     },
     "execution_count": 30,
     "metadata": {},
     "output_type": "execute_result"
    }
   ],
   "source": [
    "nwbfile.add_processing_module(position_things)"
   ]
  },
  {
   "cell_type": "markdown",
   "id": "advised-lewis",
   "metadata": {},
   "source": [
    "## Spiking Data"
   ]
  },
  {
   "cell_type": "code",
   "execution_count": 31,
   "id": "major-skiing",
   "metadata": {},
   "outputs": [],
   "source": [
    "# Get a list of the available spike files\n",
    "spike_files = os.listdir(pjoin(folder, 'spiketimes'))"
   ]
  },
  {
   "cell_type": "code",
   "execution_count": 32,
   "id": "resident-cookbook",
   "metadata": {},
   "outputs": [],
   "source": [
    "# Specify additional metadata columns for units\n",
    "#nwbfile.add_unit_column('location', 'The anatomical location of this unit.')"
   ]
  },
  {
   "cell_type": "code",
   "execution_count": 33,
   "id": "exposed-ratio",
   "metadata": {},
   "outputs": [],
   "source": [
    "# Add each unit to the NWB file\n",
    "for ind, spike_file in enumerate(spike_files):\n",
    "    \n",
    "    # Load spike file & get spike data\n",
    "    with h5py.File(pjoin(folder, 'spiketimes', spike_file), 'r') as h5file:\n",
    "        spike_data = h5file['spike_data_sorted']\n",
    "    \n",
    "        # Add unit data\n",
    "        nwbfile.add_unit(id=ind,\n",
    "                         electrodes=[0],\n",
    "                         waveform_mean=np.mean(spike_data['spikeWaveforms'][:], 0),\n",
    "                         spike_times=spike_data['spikeTimes'][:])\n",
    "        \n",
    "        # Add spike sorting extra information (?)\n",
    "        # this is where could add 'cluster' and 'class' as a processing element\n",
    "        #cluster=spike_data['spikeClusters'][:],\n",
    "        #classes=spike_data['spikeClasses'][:])"
   ]
  },
  {
   "cell_type": "markdown",
   "id": "standard-appeal",
   "metadata": {},
   "source": [
    "## Field Data"
   ]
  },
  {
   "cell_type": "code",
   "execution_count": 34,
   "id": "associate-reaction",
   "metadata": {},
   "outputs": [],
   "source": [
    "# Field metadata (FIX WITH REAL VALUES)\n",
    "srate = 1000. # ??\n",
    "field_start_time = 0.\n",
    "\n",
    "# NOTE - CAN ALTERNATELY SPECIFY LFP TIMESTAMPS\n",
    "#lfp_times = np.arange(0., len(ephys_data))\n",
    "\n",
    "# XXX\n",
    "electrode_table_region = nwbfile.create_electrode_table_region([0], 'xx')"
   ]
  },
  {
   "cell_type": "code",
   "execution_count": 35,
   "id": "serial-installation",
   "metadata": {},
   "outputs": [],
   "source": [
    "lfp_files = os.listdir(pjoin(folder, 'micro_lfp'))"
   ]
  },
  {
   "cell_type": "code",
   "execution_count": 36,
   "id": "structured-friday",
   "metadata": {},
   "outputs": [],
   "source": [
    "# # Add each LFP trace as a new object\n",
    "# for ind, lfp_file in enumerate(lfp_files):\n",
    "\n",
    "#     with open(pjoin(folder, 'micro_lfp', lfp_files[0]), 'rb') as pfile:\n",
    "#         ephys_data = joblib.load(pfile)\n",
    "        \n",
    "#         # Initialize \n",
    "#         ephys_ts = ElectricalSeries('field_data_' + str(ind),\n",
    "#                                     ephys_data,\n",
    "#                                     electrode_table_region,\n",
    "#                                     starting_time=field_start_time,\n",
    "#                                     rate=srate,\n",
    "#                                     resolution=np.inf,\n",
    "#                                     comments=\"...\",\n",
    "#                                     description=\"...\")\n",
    "        \n",
    "#         # Add LFP data\n",
    "#         nwbfile.add_acquisition(ephys_ts)"
   ]
  },
  {
   "cell_type": "code",
   "execution_count": 37,
   "id": "english-staff",
   "metadata": {},
   "outputs": [],
   "source": [
    "# Add LFP data as a combined array for all channels\n",
    "for ind, lfp_file in enumerate(lfp_files):\n",
    "\n",
    "    lfps = []\n",
    "    with open(pjoin(folder, 'micro_lfp', lfp_files[0]), 'rb') as pfile:\n",
    "        lfps.append(joblib.load(pfile))\n",
    "        \n",
    "ephys_data = np.array(lfps)\n",
    "\n",
    "# Add LFP data to NWB\n",
    "ephys_ts = ElectricalSeries('field_data',\n",
    "                            ephys_data,\n",
    "                            electrode_table_region,\n",
    "                            starting_time=field_start_time,\n",
    "                            rate=srate,\n",
    "                            resolution=np.inf,\n",
    "                            comments=\"...\",\n",
    "                            description=\"...\")\n",
    "\n",
    "nwbfile.add_acquisition(ephys_ts)"
   ]
  },
  {
   "cell_type": "markdown",
   "id": "prospective-madrid",
   "metadata": {},
   "source": [
    "### Save out local data file"
   ]
  },
  {
   "cell_type": "code",
   "execution_count": 38,
   "id": "significant-story",
   "metadata": {},
   "outputs": [],
   "source": [
    "# Save out an example NWB file\n",
    "with NWBHDF5IO('nwb_local_data.nwb', 'w') as io:\n",
    "    io.write(nwbfile)"
   ]
  }
 ],
 "metadata": {
  "kernelspec": {
   "display_name": "Python 3",
   "language": "python",
   "name": "python3"
  },
  "language_info": {
   "codemirror_mode": {
    "name": "ipython",
    "version": 3
   },
   "file_extension": ".py",
   "mimetype": "text/x-python",
   "name": "python",
   "nbconvert_exporter": "python",
   "pygments_lexer": "ipython3",
   "version": "3.8.8"
  }
 },
 "nbformat": 4,
 "nbformat_minor": 5
}
